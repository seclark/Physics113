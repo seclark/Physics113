{
 "cells": [
  {
   "cell_type": "markdown",
   "metadata": {},
   "source": [
    "# Solving ODEs: Numpy Arrays and 2D Problems"
   ]
  },
  {
   "cell_type": "code",
   "execution_count": null,
   "metadata": {},
   "outputs": [],
   "source": [
    "import numpy as np\n",
    "import matplotlib.pyplot as plt"
   ]
  },
  {
   "cell_type": "markdown",
   "metadata": {},
   "source": [
    "## More array-based programming with numpy"
   ]
  },
  {
   "cell_type": "markdown",
   "metadata": {},
   "source": [
    "We have discussed the utility of numpy arrays several times in this class, but they will become even more important as we start solving problems in more than one dimension. It is thus worth some extra practice. Sometimes we know in advance the size and shape of something we need to compute, but we need to make a calculation on each element in sequence. \n",
    "\n",
    "As an example, consider the Fibonacci sequence. The first two numbers in the Fibonacci sequence are 0 and 1, and each subsequent Fibonacci number is the sum of the two numbers before it in the sequence. How could implement the Fibonacci sequence using numpy arrays?\n",
    "\n",
    "&#128309; Implement a function `fibonacci` that takes a number `n_values` and returns a Fibonacci sequence of that length using numpy arrays, following the comments below."
   ]
  },
  {
   "cell_type": "code",
   "execution_count": null,
   "metadata": {},
   "outputs": [],
   "source": [
    "def fibonacci(n_values):\n",
    "    # Initialize a numpy array fib of length n_values, and type int (integer)\n",
    "\n",
    "    # Set the first two elements of fib to 0 and 1, respectively\n",
    "\n",
    "    # Write a for loop that steps through the other elements of fib and fills each element with the sum of the two between it\n",
    "\n",
    "    # Return fib"
   ]
  },
  {
   "cell_type": "markdown",
   "metadata": {},
   "source": [
    "&#128309; Test `fibonacci` and be sure it is working as expected."
   ]
  },
  {
   "cell_type": "code",
   "execution_count": null,
   "metadata": {},
   "outputs": [],
   "source": []
  },
  {
   "cell_type": "markdown",
   "metadata": {},
   "source": [
    "This is not the only way to implement a function that returns values from the Fibonacci sequence, of course. It is meant to give you some practice with array indexing -- referencing particular elements in your array.\n",
    "\n",
    "&#128309; Let's say for some reason that what you really need is every *other* value in the Fibonacci sequence. Use your function to return a numpy array `arr` containing the first 30 values of the Fibonnaci sequence, and then print every other element of your array using `arr[::2]`."
   ]
  },
  {
   "cell_type": "code",
   "execution_count": null,
   "metadata": {},
   "outputs": [],
   "source": []
  },
  {
   "cell_type": "markdown",
   "metadata": {},
   "source": [
    "The syntax for this array indexing is `start:stop:step`. The index `0` refers to the first element of your array, and the index `-1` refers to the last element. A negative step will index backward through your array.\n",
    "\n",
    "&#128309; Print `arr` backward by 3's starting with the second-to-last element in the array. "
   ]
  },
  {
   "cell_type": "code",
   "execution_count": null,
   "metadata": {},
   "outputs": [],
   "source": []
  },
  {
   "cell_type": "markdown",
   "metadata": {},
   "source": [
    "Indexing a numpy array with `:` means \"all elements along this dimension\". For example, let's arrange the numbers 1-12 into a 4x3 array:"
   ]
  },
  {
   "cell_type": "code",
   "execution_count": null,
   "metadata": {},
   "outputs": [],
   "source": [
    "seq = np.arange(1, 13).reshape(4, 3)\n",
    "print(seq)"
   ]
  },
  {
   "cell_type": "markdown",
   "metadata": {},
   "source": [
    "&#128309; Think about what you expect `seq[:, 2]` to print. Then print it and see if it is what you expect."
   ]
  },
  {
   "cell_type": "code",
   "execution_count": null,
   "metadata": {},
   "outputs": [],
   "source": []
  },
  {
   "cell_type": "markdown",
   "metadata": {},
   "source": [
    "&#128309; Play around with this array indexing until it makes sense to you. "
   ]
  },
  {
   "cell_type": "code",
   "execution_count": null,
   "metadata": {},
   "outputs": [],
   "source": []
  },
  {
   "cell_type": "markdown",
   "metadata": {},
   "source": [
    "## Applying Runge-Kutta to a 2D problem"
   ]
  },
  {
   "cell_type": "markdown",
   "metadata": {},
   "source": [
    "Let's extend what we worked on in the \"Solving ODEs\" notebook to a two-dimensional problem, where working with numpy arrays becomes even more obviously useful. We will use our favorite example: you are lost at sea. Fortunately we have some knowledge of the ocean currents near your last known location. We will use Runge-Kutta methods to integrate forward in time and figure out where to look for you.\n",
    "\n",
    "We will study your position as a function of $\\bar{x} = [x, y]$, your coordinates in 2D space. "
   ]
  },
  {
   "cell_type": "markdown",
   "metadata": {},
   "source": [
    "&#128309; First we will create a grid of x, y coordinates. Use `np.linspace` and `np.meshgrid` to create 20 x 20 grids of x and y coordinates called `x` and `y`, where x and y each have the range [-30, 30]. "
   ]
  },
  {
   "cell_type": "code",
   "execution_count": null,
   "metadata": {},
   "outputs": [],
   "source": []
  },
  {
   "cell_type": "markdown",
   "metadata": {},
   "source": [
    "&#128309; Picture what `x` and `y` should each look like. Use `plt.imshow` to display either your x or y array. Make sure your plot looks as expected."
   ]
  },
  {
   "cell_type": "code",
   "execution_count": null,
   "metadata": {},
   "outputs": [],
   "source": []
  },
  {
   "cell_type": "markdown",
   "metadata": {},
   "source": [
    "The ocean surface currents in this region are defined by\n",
    "$$\\frac{dx}{dt} = - 3x^3 + 5y^3 + 1$$\n",
    "$$\\frac{dy}{dt} = x^4 + 3y^3 + 2$$\n",
    "\n",
    "&#128309; Compute the velocity field components `v_x` and `v_y` by applying the equations for the ocean surface currents to your arrays `x` and `y`."
   ]
  },
  {
   "cell_type": "code",
   "execution_count": null,
   "metadata": {},
   "outputs": [],
   "source": [
    "v_x = # Your code here\n",
    "v_y = # Your code here"
   ]
  },
  {
   "cell_type": "markdown",
   "metadata": {},
   "source": [
    "&#128309; We will now plot the velocity field using `plt.quiver`. Your plot will look best if we normalize the vector lengths, so let's first compute the magnitude of each of our vectors in our vector field. Implement this following the skeleton code below."
   ]
  },
  {
   "cell_type": "code",
   "execution_count": null,
   "metadata": {},
   "outputs": [],
   "source": [
    "# Compute the magnitude of v\n",
    "norm = # Your code here\n",
    "\n",
    "# Plot the vector field. Feel free to add a color to the quiver call.\n",
    "plt.quiver(x, y, v_x/norm, v_y/norm)\n",
    "\n",
    "# Label your x and y axes 'x' and 'y'\n"
   ]
  },
  {
   "cell_type": "markdown",
   "metadata": {},
   "source": [
    "&#128310; Your last known location was at $(x_0, y_0) = (0, -20)$. Find this on the quiver plot and describe in words where you think your boat floated. "
   ]
  },
  {
   "cell_type": "markdown",
   "metadata": {},
   "source": []
  },
  {
   "cell_type": "markdown",
   "metadata": {},
   "source": [
    "&#128309; Initialize your last known location as a length 2 numpy array."
   ]
  },
  {
   "cell_type": "code",
   "execution_count": null,
   "metadata": {},
   "outputs": [],
   "source": [
    "xvec0 = np.array( # Your code here"
   ]
  },
  {
   "cell_type": "markdown",
   "metadata": {},
   "source": [
    "In the last class, you successfully implemented a second-order Runge-Kutta integrator, so I will give you one here. Feel free to replace it with your own code. Note that this one is simpler than what you implemented last class, because we will use a function that does not depend explicitly on time. "
   ]
  },
  {
   "cell_type": "code",
   "execution_count": null,
   "metadata": {},
   "outputs": [],
   "source": [
    "def rk2step(func, xk, deltat):\n",
    "    f1 = func(xk)\n",
    "    f2 = func(xk + 0.5*deltat*f1)\n",
    "    return xk + deltat*f2"
   ]
  },
  {
   "cell_type": "markdown",
   "metadata": {},
   "source": [
    "&#128309; Implement a function `dxdt` that takes an input variable `xvec`, a length-2 array representing your (x,y) position vector. Note that your velocity field  does not depend explicitly on time, so you do not actually need to pass `t` here -- you could, of course, write this in a way that has the option of handling time, for compatibility with the RK integrators you have already written. Your function will return `vvec`, a length-2 array. Implement this function following the starter code below."
   ]
  },
  {
   "cell_type": "code",
   "execution_count": null,
   "metadata": {},
   "outputs": [],
   "source": [
    "def dxdt(xvec):\n",
    "    vvec = np.zeros(2)\n",
    "    vvec[0] = # Your code here\n",
    "    vvec[1] = # Your code here\n",
    "    return vvec"
   ]
  },
  {
   "cell_type": "markdown",
   "metadata": {},
   "source": [
    "&#128309; Implement a function `solve_rk` that takes as inputs a function `func`, a length-2 array `x0` representing the starting $(x_0, y_0)$, a `deltat`, and an `N` representing the number of timesteps. Follow the starter code below."
   ]
  },
  {
   "cell_type": "code",
   "execution_count": null,
   "metadata": {},
   "outputs": [],
   "source": [
    "def solve_rk(func, x0, deltat, N):\n",
    "\n",
    "    # Initialize x as an array of zeros with shape (2, N)\n",
    "    x = # Your code here\n",
    "\n",
    "    # Populate the first elements in the x array with x0. Remember that x0 is a vector! You will need to use a colon to index x.\n",
    "    # Your code here\n",
    "\n",
    "    # Step through the rest of your N timesteps and fill in values of x as you go\n",
    "    for i in range(N-1):\n",
    "        # Call your Runge-Kutta integrator\n",
    "        x[:, i+1] = # Your code here\n",
    "        \n",
    "    return x"
   ]
  },
  {
   "cell_type": "markdown",
   "metadata": {},
   "source": [
    "&#128309; Use your function to evolve your position forward in time for 90 timesteps with `deltat = 1E-5`. Store the output as a numpy array called `x_path`. "
   ]
  },
  {
   "cell_type": "code",
   "execution_count": null,
   "metadata": {},
   "outputs": [],
   "source": [
    "N = 90\n",
    "deltat = 1E-5\n",
    "x_path = # Your code here"
   ]
  },
  {
   "cell_type": "markdown",
   "metadata": {},
   "source": [
    "&#128309; Plot your surface velocity field again, and plot your path on top of it as a scatter plot. \n",
    "*Optional:* Feel free to use your color-coding trick from the Solving ODEs notebook to color-code your scatter points by timestep if you would like. "
   ]
  },
  {
   "cell_type": "code",
   "execution_count": null,
   "metadata": {},
   "outputs": [],
   "source": [
    "plt.quiver(x, y, v_x/norm, v_y/norm)\n",
    "plt.scatter # Your code here"
   ]
  },
  {
   "cell_type": "markdown",
   "metadata": {},
   "source": [
    "&#128310; Comment on your solution. Does it look how you expected? Why or why not? "
   ]
  },
  {
   "cell_type": "markdown",
   "metadata": {},
   "source": []
  },
  {
   "cell_type": "markdown",
   "metadata": {},
   "source": [
    "## Acknowledgments\n",
    "\n",
    "S.E. Clark 2024"
   ]
  }
 ],
 "metadata": {
  "kernelspec": {
   "display_name": "py38",
   "language": "python",
   "name": "python3"
  },
  "language_info": {
   "codemirror_mode": {
    "name": "ipython",
    "version": 3
   },
   "file_extension": ".py",
   "mimetype": "text/x-python",
   "name": "python",
   "nbconvert_exporter": "python",
   "pygments_lexer": "ipython3",
   "version": "3.8.16"
  }
 },
 "nbformat": 4,
 "nbformat_minor": 2
}
