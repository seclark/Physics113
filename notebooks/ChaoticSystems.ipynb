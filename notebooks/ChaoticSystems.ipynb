{
 "cells": [
  {
   "cell_type": "markdown",
   "metadata": {},
   "source": [
    "# Chaotic Systems"
   ]
  },
  {
   "cell_type": "markdown",
   "metadata": {},
   "source": [
    "In this notebook we will practice several general scientific computing skills: working with numpy arrays, working with the scipy package `solve_ivp`, and some useful plotting practice, including with 3D plots. This will mostly close out our in-class exploration of ODEs, although we will revisit and build on certain concepts. The final problem asks you to think about how you would put together several methods we have discussed in order to solve a boundary-value ODE problem.  "
   ]
  },
  {
   "cell_type": "code",
   "execution_count": null,
   "metadata": {},
   "outputs": [],
   "source": [
    "import numpy as np\n",
    "import matplotlib.pyplot as plt\n",
    "from scipy.integrate import solve_ivp"
   ]
  },
  {
   "cell_type": "markdown",
   "metadata": {},
   "source": [
    "## Feigenbaum plots and the onset of chaos\n",
    "\n",
    "The logistic map is a famous example of how chaotic behavior can arise from a very simple nonlinear equation. Consider the following equation:\n",
    "\n",
    "$$x_{n+1} = r x_n (1 - x_n)$$\n",
    "\n",
    "where $x$ is a number between 0 and 1. As simple as the logistic map is, it displays some interesting behavior. Let's explore it!\n",
    "\n",
    "&#128309; Write a simple function `logistic_map` that computes the above for a given `x` and `r`."
   ]
  },
  {
   "cell_type": "code",
   "execution_count": null,
   "metadata": {},
   "outputs": [],
   "source": []
  },
  {
   "cell_type": "markdown",
   "metadata": {},
   "source": [
    "When we iteratively apply this equation to x, one of three things happens:\n",
    "\n",
    "1. The value settles down to a fixed number and stays there. This is called a **fixed point**. \n",
    "2. x doesn't settle down to a single value, but settles into a periodic pattern, repeating the same few values over and over. This is called a **limit cycle**.  \n",
    "3. The value exhibits **deterministic chaos**, generating a seemingly random sequence of numbers. "
   ]
  },
  {
   "cell_type": "markdown",
   "metadata": {},
   "source": [
    "&#128309; Initialize x to 0.5 and compute 100 iterations of x with r=2.5. Repeat this procedure for r=3.5 and r=3.8. Plot x as a function of iteration number for each value of r (choosing a different color for each r). Decide which r value exhibits which of the behaviors above, and clearly label your plot.  "
   ]
  },
  {
   "cell_type": "code",
   "execution_count": null,
   "metadata": {},
   "outputs": [],
   "source": []
  },
  {
   "cell_type": "markdown",
   "metadata": {},
   "source": [
    "&#128309; Now we will make a Feigenbaum plot: a plot of the behavior of x as a function of the parameter r. Do the following:\n",
    "\n",
    "For a given value of r:\n",
    "1. Initialize x to 0.5\n",
    "2. Iterate x 50 times and discard the output. That will give x a chance to settle down into a fixed point or a limit cycle if it is going to.\n",
    "3. Iterate x 1000 more times and store the output for plotting.\n",
    "\n",
    "Repeat this procedure for 100 values of r between 0 and 4, and make a plot with r on the x-axis and your 1000 values of x on the y-axis. *Tip:* think about and plan out how you will do this before you start. "
   ]
  },
  {
   "cell_type": "code",
   "execution_count": null,
   "metadata": {},
   "outputs": [],
   "source": []
  },
  {
   "cell_type": "markdown",
   "metadata": {},
   "source": [
    "&#128310; Describe in your own words what the plot shows. Where are the fixed points? The limit cycles? Explain what you observe for the r values that exhibit deterministic chaos. "
   ]
  },
  {
   "cell_type": "markdown",
   "metadata": {},
   "source": []
  },
  {
   "cell_type": "markdown",
   "metadata": {},
   "source": [
    "&#128310; The point in parameter space where the behavior transitions from orderly (fixed points or limit cycles) to chaotic behavior is often called the *onset of chaos*. Based on your plot, where is the onset of chaos for this logistic map? "
   ]
  },
  {
   "cell_type": "markdown",
   "metadata": {},
   "source": []
  },
  {
   "cell_type": "markdown",
   "metadata": {},
   "source": [
    "## The Lorenz Equations\n",
    "\n",
    "Consider the following system of differential equations:\n",
    "\n",
    "$$\\frac{dx}{dt} = \\sigma (y - x)$$\n",
    "$$\\frac{dy}{dt} = \\rho x - y - xz$$\n",
    "$$\\frac{dz}{dt} = xy - \\beta z$$\n",
    "\n",
    "where $\\sigma$, $\\rho$, and $\\beta$ are constants. These equations were used by Edward Lorenz, Ellen Fetter, and Margaret Hamilton to study atmospheric convection. "
   ]
  },
  {
   "cell_type": "markdown",
   "metadata": {},
   "source": [
    "&#128309; Write a function `lorenz` that takes positional arguments `t` and `xvec`, along with keyword arguments `sigma`, `beta`, and `rho`. `xvec` should be a length-3 array, and the program should return $\\left[\\frac{dx}{dt}, \\frac{dy}{dt}, \\frac{dz}{dt}\\right]$ as a length-3 array."
   ]
  },
  {
   "cell_type": "code",
   "execution_count": null,
   "metadata": {},
   "outputs": [],
   "source": []
  },
  {
   "cell_type": "markdown",
   "metadata": {},
   "source": [
    "&#128310; Look up the documentation for the scipy function `solve_ivp`. What numerical integration scheme does it use by default?"
   ]
  },
  {
   "cell_type": "markdown",
   "metadata": {},
   "source": []
  },
  {
   "cell_type": "markdown",
   "metadata": {},
   "source": [
    "&#128309; Use the scipy function `solve_ivp` to solve the Lorenz equations with $\\sigma=10$, $\\beta=8/3$, and $\\rho = 28$ from $t = 0$ to $t = 50$ with initial conditions $(x, y, z) = (0, 1, 0)$. Store the output as an object `soln`. "
   ]
  },
  {
   "cell_type": "code",
   "execution_count": null,
   "metadata": {},
   "outputs": [],
   "source": []
  },
  {
   "cell_type": "markdown",
   "metadata": {},
   "source": [
    "&#128309; Establish a 3D plot using `ax = plt.figure().add_subplot(projection='3d')` and plot x vs y vs z. You should see an example of the famous \"Lorenz attractor\", which resembles a butterfly. If the curves on your plot are not smooth, look back at the `solve_ivp` documentation and rerun your code with a different choice of `rtol`. "
   ]
  },
  {
   "cell_type": "code",
   "execution_count": null,
   "metadata": {},
   "outputs": [],
   "source": []
  },
  {
   "cell_type": "markdown",
   "metadata": {},
   "source": [
    "&#128309; Vary your initial conditions just a small amount and solve the initial value problem again. Plot both paths on the same plot, using the `alpha` keyword to set the opacity of each line. "
   ]
  },
  {
   "cell_type": "code",
   "execution_count": null,
   "metadata": {},
   "outputs": [],
   "source": []
  },
  {
   "cell_type": "markdown",
   "metadata": {},
   "source": [
    "&#128310; Describe in your own words what the plot shows. In what way does this system exhibit chaos?"
   ]
  },
  {
   "cell_type": "code",
   "execution_count": null,
   "metadata": {},
   "outputs": [],
   "source": []
  },
  {
   "cell_type": "markdown",
   "metadata": {},
   "source": [
    "## Boundary Value Problems: Putting the Pieces Together\n",
    "\n",
    "We have now solved a number of different ODEs in this class, starting with simple first-order differential equations and working our way up to second-order ODEs and coupled systems of nonlinear ODEs. We have explored a number of numerical techniques for solving ODE problems. However there is one thing that all of the problems we've tackled thus far have in common: they are all **initial value problems**, i.e., we are given the state of the system at some time, and evolving the system forward in time from there. \n",
    "\n",
    "Of course there is another type of ODE problem, a **boundary value problem**, or BVP. Say for example we throw a ball up into the air:\n",
    "\n",
    "$$\\frac{d^2 y}{dt^2} = -g$$\n",
    "\n",
    "where $g$ is the acceleration due to gravity and there is no air resistance. To solve this we need two conditions, e.g. the starting height and velocity of the ball at time 0 (an IVP) or the height of the ball at two starting and ending times. For example, suppose we were told that the ball has height $x=0$ at $t=0$ and it reaches $x=0$ again at time $t=10$ seconds. What was the ball's initial velocity?\n",
    "\n",
    "### The Shooting Method\n",
    "\n",
    "The shooting method is a trial-and-error method that searches for the correct initial conditions in order to satisfy the boundary conditions. The idea for the ball example would be to guess an initial upward velocity, solve the differential equation until time $t = 10$ seconds, and then ask whether the ball had reached height 0 (i.e., see if we guessed right). We probably didn't -- we probably overshot or undershot, in which case we should modify our initial velocity guess and try again. \n",
    "\n",
    "&#128310; This process, of guessing and checking, can be thought of as a root-finding problem. Think about that and describe in your own words in what sense this step is like root-finding. "
   ]
  },
  {
   "cell_type": "markdown",
   "metadata": {},
   "source": []
  },
  {
   "cell_type": "markdown",
   "metadata": {},
   "source": [
    "&#128310; Write pseudocode to sketch out how you would combine Runge-Kutta and a root-finding method to solve the ball problem. Recall that pseudocode is not actual code, but a plan for what your code will do: e.g. instead of `for i in range(nsteps)` you might write `step through time`. "
   ]
  },
  {
   "cell_type": "markdown",
   "metadata": {},
   "source": []
  },
  {
   "cell_type": "markdown",
   "metadata": {},
   "source": [
    "&#128309; See if you can put the pieces together to use Runge-Kutta integration and root-finding to solve the ball problem. Your final answer should be a required initial velocity in $m/s$. "
   ]
  },
  {
   "cell_type": "code",
   "execution_count": null,
   "metadata": {},
   "outputs": [],
   "source": []
  },
  {
   "cell_type": "markdown",
   "metadata": {},
   "source": [
    "## Acknowledgments\n",
    "\n",
    "S.E. Clark 2024, with problems adapted from Newman 2013."
   ]
  },
  {
   "cell_type": "markdown",
   "metadata": {},
   "source": []
  }
 ],
 "metadata": {
  "kernelspec": {
   "display_name": "py38",
   "language": "python",
   "name": "py38"
  },
  "language_info": {
   "codemirror_mode": {
    "name": "ipython",
    "version": 3
   },
   "file_extension": ".py",
   "mimetype": "text/x-python",
   "name": "python",
   "nbconvert_exporter": "python",
   "pygments_lexer": "ipython3",
   "version": "3.8.16"
  }
 },
 "nbformat": 4,
 "nbformat_minor": 2
}
