{
 "cells": [
  {
   "cell_type": "markdown",
   "metadata": {},
   "source": [
    "# Adaptive Stepsize for solving ODEs"
   ]
  },
  {
   "cell_type": "code",
   "execution_count": null,
   "metadata": {},
   "outputs": [],
   "source": [
    "import numpy as np\n",
    "import matplotlib.pyplot as plt"
   ]
  },
  {
   "cell_type": "markdown",
   "metadata": {},
   "source": [
    "## Adaptive Step Size Runge-Kutta Integrators\n",
    "\n",
    "We have now explored several methods for integrating ODEs in this class, and in each case we have taken a fixed step size. There is an obvious way to do better than this: we can vary our step size so that when our function is changing rapidly, we take very small steps, and when our function is varying slowly and smoothly, we lengthen our stride. In the words of the great textbook Numerical Recipes, \"many small steps should tiptoe through treacherous terrain, while a few great strides should speed through smooth uninteresting countryside.\" Let's look at this idea in more detail.\n",
    "\n",
    "### Step Doubling\n",
    "If we want to judiciously choose our adaptive stepsizes, we will need to estimate how big a step to take at any given moment. The simplest way to achieve this is called *step doubling*. We will compare what we get by taking two normal steps with what we get taking one step of twice the size. By comparing these two estimates we can determine the accuracy of our calculation. \n",
    "\n",
    "Let's let $x(t + 2h)$ denote the exact solution for a step from $t$ to $t+2h$. Let's compare the two approximate solutions $x_1$ (one step of size $2h$) and $x_2$ (two steps each of size $h$). We recall that the RK4 integrator is fourth-order accurate, and thus accumulates errors as $h^5$, where $h$ is our stepsize. (In many physics applications this $h$ is our timestep, and we have been sometimes been calling it $\\Delta t$. Here I'm using $h$ to avoid the notational annoyance of writing powers of $\\Delta t$.)\n",
    "\n",
    "$$x(t + 2h) = x_1 + (2h)^5 c$$\n",
    "$$x(t + 2h) = x_2 + 2(h^5) c$$\n",
    "\n",
    "The first expression has $(2h)^5$ because the stepsize is $2h$, and the second expression takes two steps of size $h$, so we have a term $2h^5$. The $c$ in these expressions is a constant (which we know from the Taylor series is of order $\\frac{d^5x}{dt^5}/5!$).\n",
    "\n",
    "Equating these expressions gives us a handy way to measure the per-step truncation error $\\epsilon = ch^5$:\n",
    "\n",
    "$$\\epsilon = ch^5 = \\frac{1}{30}\\left|x_2 - x_1\\right|$$\n",
    "\n",
    "where we are taking the absolute value because we care about the absolute magnitude of the error, and not its sign. The goal is to make this error equal to some target accuracy. \n",
    "\n",
    "&#128310; In your own words, if $\\epsilon$ is smaller than our target accuracy, what does that mean, and what should happen? If $\\epsilon$ is larger than our target accuracy, what should happen? "
   ]
  },
  {
   "cell_type": "markdown",
   "metadata": {},
   "source": []
  },
  {
   "cell_type": "markdown",
   "metadata": {},
   "source": [
    "Let's imagine the perfect stepsize $h_{ideal}$ such that our error is exactly equal to the target error. If we take steps of size $h_{ideal}$, the error on a single step is\n",
    "\n",
    "$$ch_{ideal}^5 = ch^5 \\left(\\frac{h_{ideal}}{h}\\right)^5 = \\frac{1}{30}(x_1 - x_2)\\left(\\frac{h_{ideal}}{h}\\right)^5$$\n",
    "\n",
    "where we have subbed in the equation above. Let's say we want a solution with a target accuracy of $\\delta h_{ideal}$. We thus find\n",
    "\n",
    "$$h_{ideal} = h \\rho^{1/4}$$\n",
    "\n",
    "where\n",
    "\n",
    "$$\\rho = \\frac{30 h \\delta}{\\left|x_1 - x_2\\right|}$$\n",
    "\n",
    "is the ratio of the target accuracy and the actual accuracy for steps of size $h$. The idea is to timestep our system forward, and evaluate whether $\\rho$ is greater than or equal to 1 at each step, adjusting our step size accordingly. Note that we typically want to set a maximum possible timestep adjustment, typically $2h$. When we adjust our timestep we will thus set it to the minimum of $2h$ and $h \\rho^{1/4}$."
   ]
  },
  {
   "cell_type": "markdown",
   "metadata": {},
   "source": [
    "### Implementing Step Doubling with RK4\n",
    "\n",
    "Let's try our own implementation of step doubling. First we'll need an RK4 stepper.\n",
    "\n",
    "Recall that an RK4 step is calculated as follows:\n",
    "\n",
    "$$x_{k+1} = x_k + \\frac{h}{6}\\left(f_1 + 2f_2 + 2f_3 + f_4\\right)$$\n",
    "\n",
    "where\n",
    "\n",
    "$$f_1 = f(x_k, t_k)$$\n",
    "$$f_2 = f(x_k + \\frac{h}{2}f_1, t_k + \\frac{h}{2} )$$\n",
    "$$f_3 = f(x_k + \\frac{h}{2}f_2, t_k + \\frac{h}{2} )$$\n",
    "$$f_4 = f(x_k + h f_3, t_k + h)$$\n",
    "\n",
    "&#128309; Write a function `rk4step` that takes a function `func`, current state of the system `xk`, and stepsize `h`, and returns the next state of the system according to the RK4 algorithm. Note that this version of an RK4 step will not depend explicitly on time. Can you write your `rk4step` function in 6 lines? "
   ]
  },
  {
   "cell_type": "code",
   "execution_count": null,
   "metadata": {},
   "outputs": [],
   "source": []
  },
  {
   "cell_type": "markdown",
   "metadata": {},
   "source": [
    "&#128309; Write a function `rk4adaptivestep` that takes a function `func`, current state of the system `xk`, and stepsize `h`, following the comments below."
   ]
  },
  {
   "cell_type": "code",
   "execution_count": null,
   "metadata": {},
   "outputs": [],
   "source": [
    "def rk4adaptivestep(func, xk, h):\n",
    "    # Perform one step of size 2h and store the output as x1\n",
    "\n",
    "    # Perform two steps of size h and store the output as x2\n",
    "    \n",
    "    # Return the difference between the two results and the result with stepsize h"
   ]
  },
  {
   "cell_type": "markdown",
   "metadata": {},
   "source": [
    "## A comet approaches the Sun\n",
    "\n",
    "Consider a comet in orbit around the Sun. In the plane of its orbit, its position is governed by two second-order differential equations:\n",
    "\n",
    "$$\\frac{d^2x}{dt^2} = -GM\\frac{x}{r^3}$$\n",
    "$$\\frac{d^2y}{dt^2} = -GM\\frac{y}{r^3}$$\n",
    "\n",
    "where $r = \\sqrt{x^2 + y^2}$.\n",
    "\n",
    "&#128310; Write this system as four first-order differential equations. *Hint:* your equations will govern $x, y, v_x, v_y$. "
   ]
  },
  {
   "cell_type": "markdown",
   "metadata": {},
   "source": []
  },
  {
   "cell_type": "markdown",
   "metadata": {},
   "source": [
    "&#128309; Write a function `comet` that takes a length-4 array `vec` containing $[x, y, v_x, v_y]$, and returns a length-4 array with $\\frac{d \\mathrm{vec}}{dt}$, i.e., a function that computes your four ODEs above. Look up the mass of the Sun and the Gravitational constant. You may choose to work in SI units (but it is up to you as long as you are consistent). "
   ]
  },
  {
   "cell_type": "code",
   "execution_count": null,
   "metadata": {},
   "outputs": [],
   "source": []
  },
  {
   "cell_type": "markdown",
   "metadata": {},
   "source": [
    "&#128310; Note that if we are writing an adaptive method for a system of equations, we will end up computing $\\rho$ for each variable. A reasonable choice here is to compute the error on the distance from the Sun, i.e. $\\sqrt{x^2 + y^2}$. Write down what your $\\rho$ will be in this case."
   ]
  },
  {
   "cell_type": "markdown",
   "metadata": {},
   "source": []
  },
  {
   "cell_type": "markdown",
   "metadata": {},
   "source": [
    "&#128309; Let's say your comet begins 4 billion km from the Sun, around the orbit of Neptune, with initial velocity $v_x = 0$ and $v_y = 500~\\mathrm{m/s}$ at time=0. Implement an adaptive RK4 scheme to follow the path of your comet for 40 years, following the comments below. Set a target accuracy for the comet's position of $\\delta = 1$ km/year. Think carefully about each step, and be careful with units!"
   ]
  },
  {
   "cell_type": "code",
   "execution_count": null,
   "metadata": {},
   "outputs": [],
   "source": [
    "# Initialize empty lists xpoints and ypoints to store the output\n",
    "\n",
    "\n",
    "# Initialize a variable t to store the current time. Also initialize delta and any other constants you need\n",
    "\n",
    "\n",
    "# Initialize your timestep h. Start with something relatively small! Denote the units of your choice. \n",
    "\n",
    "\n",
    "# Initialize your state vector x. This should be a length-4 numpy array.\n",
    "\n",
    "\n",
    "# Start a while loop that will run until you achieve the final time\n",
    "\n",
    "\n",
    "    # Perform an adaptive step using the current value of h. Store the difference and the new state vector as vecdiff and xnew. \n",
    "    \n",
    "    \n",
    "    # Calculate rho\n",
    "    \n",
    "\n",
    "    # If rho is greater than or equal to 1, increase your stepsize and append your results to xpoints and ypoints\n",
    "    \n",
    "        # Update t, keeping in mind that we just stepped forward 2h\n",
    "        \n",
    "\n",
    "        # Update h, setting it to the smaller of 2h and h*rho^(1/4)\n",
    "        \n",
    "\n",
    "        # Update x and append the results to xpoints and ypoints\n",
    "        \n",
    "\n",
    "    # If rho is less than 1, decrease your stepsize and do not append your result to the output\n",
    "    \n",
    "        # Update h, setting it to h*rho^(1/4)\n",
    "        \n",
    "\n"
   ]
  },
  {
   "cell_type": "markdown",
   "metadata": {},
   "source": [
    "&#128309; Plot the journey of your comet through space, i.e. its x-y coordinates as a function of time. Plot each timestep as a dot. You may want to play with the markersize."
   ]
  },
  {
   "cell_type": "code",
   "execution_count": null,
   "metadata": {},
   "outputs": [],
   "source": []
  },
  {
   "cell_type": "markdown",
   "metadata": {},
   "source": [
    "&#128309; Plot the journey of your comet through space a second time. This time also plot the position of the Sun at $(x, y) = (0, 0)$. Adjust the axis limits of your plot until you have a good view of the time that the comet spends near the Sun. Label everything nicely. "
   ]
  },
  {
   "cell_type": "code",
   "execution_count": null,
   "metadata": {},
   "outputs": [],
   "source": []
  },
  {
   "cell_type": "markdown",
   "metadata": {},
   "source": [
    "&#128310; Describe in words what is happening in your plot, in terms of both the stepsize your integrator used, and the physics of the comet's journey."
   ]
  },
  {
   "cell_type": "markdown",
   "metadata": {},
   "source": []
  },
  {
   "cell_type": "markdown",
   "metadata": {},
   "source": [
    "Now that you have tackled this, you are ready to take on the three-body problem! That is a fascinating system that you may wish to explore. "
   ]
  },
  {
   "cell_type": "markdown",
   "metadata": {},
   "source": [
    "## The Lotka-Volterra equations\n",
    "\n",
    "We can write down a system of equations that models predator-prey interactions, e.g. between rabbits (`x`) and wolves (`y`). These are as follows:\n",
    "\n",
    "$$\\frac{dx}{dt} = ax - bxy$$\n",
    "$$\\frac{dy}{dt} = cxy - dy$$\n",
    "\n",
    "&#128310; Describe these equations in your own words. Why do they have this form?"
   ]
  },
  {
   "cell_type": "markdown",
   "metadata": {},
   "source": []
  },
  {
   "cell_type": "markdown",
   "metadata": {},
   "source": [
    "&#128309; Implement an adaptive RK scheme to solve these equations. Assume $a = 1, b = c = 0.5, d = 2$, and assume that $x$ and $y$ represent the number of rabbits and wolves in units of thousands of animals. Evolve these equations forward from $t = 0$ to $t = 30$ years, storing both the rabbit and wolf population numbers and the time. "
   ]
  },
  {
   "cell_type": "code",
   "execution_count": null,
   "metadata": {},
   "outputs": [],
   "source": []
  },
  {
   "cell_type": "markdown",
   "metadata": {},
   "source": [
    "&#128309; Plot the wolf and rabbit populations as a function of time. "
   ]
  },
  {
   "cell_type": "code",
   "execution_count": null,
   "metadata": {},
   "outputs": [],
   "source": []
  },
  {
   "cell_type": "markdown",
   "metadata": {},
   "source": [
    "&#128310; Explain your plot in your own words. "
   ]
  },
  {
   "cell_type": "markdown",
   "metadata": {},
   "source": []
  },
  {
   "cell_type": "markdown",
   "metadata": {},
   "source": [
    "## Acknowledgments\n",
    "\n",
    "S.E. Clark 2024, with inspiration from Numerical Recipes (3rd Edition) and problems adapted from Newman 2013."
   ]
  },
  {
   "cell_type": "markdown",
   "metadata": {},
   "source": []
  }
 ],
 "metadata": {
  "kernelspec": {
   "display_name": "py38",
   "language": "python",
   "name": "py38"
  },
  "language_info": {
   "codemirror_mode": {
    "name": "ipython",
    "version": 3
   },
   "file_extension": ".py",
   "mimetype": "text/x-python",
   "name": "python",
   "nbconvert_exporter": "python",
   "pygments_lexer": "ipython3",
   "version": "3.8.16"
  }
 },
 "nbformat": 4,
 "nbformat_minor": 2
}
