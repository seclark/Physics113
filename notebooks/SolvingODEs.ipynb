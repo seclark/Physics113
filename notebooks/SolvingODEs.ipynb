{
 "cells": [
  {
   "cell_type": "markdown",
   "metadata": {},
   "source": [
    "# Solving Ordinary Differential Equations (ODEs) Numerically"
   ]
  },
  {
   "cell_type": "markdown",
   "metadata": {},
   "source": [
    "In this class we have already begun to explore techniques for solving initial value problems with first-order differential equations, of the general form\n",
    "\n",
    "$$\\frac{dx}{dt} = f(x, t)$$\n",
    "\n",
    "Specifically, we have explored Euler's method in Numerical Basics, and a slight variation called the Euler-Cromer method in Problem Set 1. "
   ]
  },
  {
   "cell_type": "markdown",
   "metadata": {},
   "source": [
    "&#128310; Write down Euler's method as an expression for $x_{k+1}$, i.e. $x$ at timestep $k + 1$."
   ]
  },
  {
   "cell_type": "markdown",
   "metadata": {},
   "source": []
  },
  {
   "cell_type": "markdown",
   "metadata": {},
   "source": [
    "As we touched upon in Numerical Basics, Euler's method is okay for some simple problems, but it is not really accurate enough for everyday use. How might we go about deriving a higher-accuracy method? You will recall that we derived Euler's method using a Taylor expansion, which we truncated at first order:\n",
    "\n",
    "$$x(t + \\Delta t) = x(t) + \\frac{dx}{dt}\\Delta t + \\frac{1}{2}(\\Delta t)^2 \\frac{d^2x}{dt^2} + ...$$\n",
    "\n",
    " A natural place to turn if we need higher accuracy is to include the next term in the Taylor series. \n",
    "\n",
    " &#128310; Write down an expression for $x_{k+1}$ that would be Euler's method with this extra term, for $\\frac{dx}{dt} = f(x, t)$."
   ]
  },
  {
   "cell_type": "markdown",
   "metadata": {},
   "source": []
  },
  {
   "cell_type": "markdown",
   "metadata": {},
   "source": [
    "&#128310; The expression you have just written down could work in some cases, but it is not generally very useful. Why? What does it require us to know? "
   ]
  },
  {
   "cell_type": "markdown",
   "metadata": {},
   "source": []
  },
  {
   "cell_type": "markdown",
   "metadata": {},
   "source": [
    "Fortunately, there are higher-order methods that avoid this difficulty. "
   ]
  },
  {
   "cell_type": "markdown",
   "metadata": {},
   "source": [
    "## Runge-Kutta Methods\n",
    "\n"
   ]
  },
  {
   "cell_type": "markdown",
   "metadata": {},
   "source": [
    "We will now learn a class of methods called \"Runge-Kutta methods\". There are a number of these of different order, and in fact Euler's method can be considered the first-order Runge-Kutta method. \n",
    "\n",
    "### The Second-Order Runge-Kutta Method\n",
    "\n",
    "The second-order Runge-Kutta method estimates $x(t + \\Delta t)$ by extrapolating using the slope of the function evaluated at $t + \\frac{1}{2}\\Delta t$. Mathematically, we can write the second-order Runge-Kutta method as follows:\n",
    "\n",
    "$$x_{k+1} = x_k + \\Delta t f(x_k + \\frac{\\Delta t}{2}f(x_k, t_k), t_k + \\frac{\\Delta t}{2})$$\n",
    "\n",
    "Equivalently, we can express this as\n",
    "\n",
    "$$x_{k + 1} = x_k + \\Delta t f_2$$\n",
    "\n",
    "where\n",
    "\n",
    "$$f_1 = f(x_k, t_k)$$\n",
    "$$f_2 = f(x_k + \\frac{\\Delta t}{2}f_1, t_k + \\frac{\\Delta t}{2})$$"
   ]
  },
  {
   "cell_type": "markdown",
   "metadata": {},
   "source": [
    "&#128309; Import numpy and matplotlib as usual. It's time to start coding!"
   ]
  },
  {
   "cell_type": "code",
   "execution_count": null,
   "metadata": {},
   "outputs": [],
   "source": []
  },
  {
   "cell_type": "markdown",
   "metadata": {},
   "source": [
    "&#128309; Code up a function `rk2step` that takes the following inputs: </br>\n",
    "`func`: the function $f(x, t)$ </br>\n",
    "`xk`  : the current $x$, or current state of your system at timestep $k$ </br>\n",
    "`k`   : the current timestep $k$ </br>\n",
    "`deltat`: the timestep $\\Delta t$ </br>\n",
    "And outputs $x_{k+1}$"
   ]
  },
  {
   "cell_type": "code",
   "execution_count": null,
   "metadata": {},
   "outputs": [],
   "source": []
  },
  {
   "cell_type": "markdown",
   "metadata": {},
   "source": [
    "&#128310; Comment on your `rk2step` function. What modification would you make to turn it from a second-order Runge-Kutta solver to an Euler's method solver?"
   ]
  },
  {
   "cell_type": "markdown",
   "metadata": {},
   "source": []
  },
  {
   "cell_type": "markdown",
   "metadata": {},
   "source": [
    "&#128309; Write some code that uses your function `rk2step` to solve a differential equation in `N` steps, given initial conditions `x0` and `k0` and a timestep `deltat`. Store the time at each timestep and the state of your system $x$ at each timestep using numpy arrays, and return those arrays."
   ]
  },
  {
   "cell_type": "code",
   "execution_count": null,
   "metadata": {},
   "outputs": [],
   "source": []
  },
  {
   "cell_type": "markdown",
   "metadata": {},
   "source": [
    "&#128309; Use your implementation of the second-order Runge-Kutta method to solve the differential equation \n",
    "\n",
    "$$\\frac{dx}{dt} = -x^3 + \\sin t$$\n",
    "\n",
    "from $t=0$ to $t=10$, given the initial condition $x = 0$ at $t = 0$. (Note: you tackled this same differential equation with Euler's method in Numerical Basics.)\n",
    "\n",
    "Plot $x(t)$ as a function of $t$ for $N=10, 20, 30, 50, 100$, all on the same plot. You can use more values of N if you want. Label everything!\n",
    "\n",
    "*Optional plotting tip*: you may find it useful to plot your solutions using a colormap that assigns colors based on N in some principled way. One way to do this is to grab your colors directly from a <a href=\"https://matplotlib.org/stable/users/explain/colors/colormaps.html\" target=\"_blank\" rel=\"noopener noreferrer\">matplotlib colormap</a>. The following code snippet shows you how to do this. \n",
    "\n",
    "```python\n",
    "import matplotlib \n",
    "cmap = matplotlib.colormaps[\"viridis\"]\n",
    "\n",
    "# plot y vs x in the color that is the midpoint of the colormap \"viridis\"\n",
    "plt.plot(x, y, color=cmap(0.5))\n",
    "```\n",
    "\n"
   ]
  },
  {
   "cell_type": "code",
   "execution_count": null,
   "metadata": {},
   "outputs": [],
   "source": []
  },
  {
   "cell_type": "markdown",
   "metadata": {},
   "source": [
    "&#128310; Comment on your plot. At what $N$ does the answer visually start to converge?"
   ]
  },
  {
   "cell_type": "markdown",
   "metadata": {},
   "source": []
  },
  {
   "cell_type": "markdown",
   "metadata": {},
   "source": [
    "### The Fourth-Order Runge-Kutta Method\n",
    "\n",
    "We can extend this line of reasoning, and approximate our derivative step using more complicated estimates that cancel higher-order terms in the Taylor expansion. For a great many applications, the \"sweet spot\" of accuracy and efficiency is the fourth-order Runge-Kutta method. This method is computed as follows:\n",
    "\n",
    "$$x_{k+1} = x_k + \\frac{\\Delta t}{6}\\left(f_1 + 2f_2 + 2f_3 + f_4\\right)$$\n",
    "\n",
    "where\n",
    "\n",
    "$$f_1 = f(x_k, t_k)$$\n",
    "$$f_2 = f(x_k + \\frac{\\Delta t}{2}f_1, t_k + \\frac{\\Delta t}{2} )$$\n",
    "$$f_3 = f(x_k + \\frac{\\Delta t}{2}f_2, t_k + \\frac{\\Delta t}{2} )$$\n",
    "$$f_4 = f(x_k + \\Delta t f_3, t_k + \\Delta t)$$"
   ]
  },
  {
   "cell_type": "markdown",
   "metadata": {},
   "source": [
    "&#128309; Implement a function a function `rk4step` that takes the same inputs as `rk2step`, namely: </br>\n",
    "`func`: the function $f(x, t)$ </br>\n",
    "`xk`  : the current $x$, or current state of your system at timestep $k$ </br>\n",
    "`k`   : the current timestep $k$ </br>\n",
    "`deltat`: the timestep $\\Delta t$ </br>\n",
    "And outputs $x_{k+1}$"
   ]
  },
  {
   "cell_type": "code",
   "execution_count": null,
   "metadata": {},
   "outputs": [],
   "source": []
  },
  {
   "cell_type": "markdown",
   "metadata": {},
   "source": [
    "&#128309; Write function that calls either `rk2step` or `rk4step`, depending on user-specified inputs. Your function should use the specified solver to solve a differential equation in `N` steps, given initial conditions `x0` and `k0` and a timestep `deltat`. Store the time at each timestep and the state of your system $x$ at each timestep using numpy arrays, and return those arrays. "
   ]
  },
  {
   "cell_type": "code",
   "execution_count": null,
   "metadata": {},
   "outputs": [],
   "source": []
  },
  {
   "cell_type": "markdown",
   "metadata": {},
   "source": [
    "&#128309; Now use your fourth-order Runge-Kutta scheme to create a similar plot to what you did with `rk2step`, i.e., solve \n",
    "$$\\frac{dx}{dt} = -x^3 + \\sin t$$\n",
    "for various choices of N.  "
   ]
  },
  {
   "cell_type": "code",
   "execution_count": null,
   "metadata": {},
   "outputs": [],
   "source": []
  },
  {
   "cell_type": "markdown",
   "metadata": {},
   "source": [
    "&#128310; Comment on your plot. How does your solution accuracy seem to compare for similar N between second- and fourth-order Runge-Kutta?"
   ]
  },
  {
   "cell_type": "markdown",
   "metadata": {},
   "source": []
  },
  {
   "cell_type": "markdown",
   "metadata": {},
   "source": [
    "## RC circuit"
   ]
  },
  {
   "cell_type": "markdown",
   "metadata": {},
   "source": [
    "Consider the following very simple electronic circuit with one resistor and one capacitor. \n",
    "\n",
    "<div><img src=\"https://upload.wikimedia.org/wikipedia/commons/thumb/e/e0/1st_Order_Lowpass_Filter_RC.svg/640px-1st_Order_Lowpass_Filter_RC.svg.png\" alt=\"RC circuit diagram\" style=\"background:#FFFFFF\"></div>\n",
    "\n",
    "\n",
    "The diagram shows a simple RC circuit with one resistor and one capacitor. The input signal $\\mathrm{V}_{in}$ is applied to the series combination of the resistor and then capacitor, and the output signal $\\mathrm{V}_{out}$ is the voltage across the capacitor. \n",
    "\n",
    "This is an example of an RC filter circuit: a signal sent in on the left will come out filtered on the right. This is specifically a low-pass filter, which attenuates high-frequency signals. \n",
    "\n",
    "For a time-variable input signal $\\mathrm{V}_{in}(t)$, we can derive a simple ODE that describes the behavior of this circuit:\n",
    "\n",
    "$$\\frac{dV_{out}}{dt} = \\frac{1}{RC}(V_{in} - V_{out})$$\n",
    "\n",
    "where R is the resistance of the resistor and C is the capacitance of the capacitor. Let's explore what happens when we send a square wave into our circuit."
   ]
  },
  {
   "cell_type": "markdown",
   "metadata": {},
   "source": [
    "&#128309; First, write a function that returns the amplitude of our square wave at a time t. Our wave is defined by the following:\n",
    "\n",
    "$$V_{in}(t) = \\begin{cases}\n",
    "    1, & \\text{if } \\lfloor 2t \\rfloor~\\mathrm{is}~\\mathrm{even}\\\\\n",
    "    -1, & \\text{if } \\lfloor 2t \\rfloor~\\mathrm{is}~\\mathrm{odd}\\\\\n",
    "\\end{cases}$$\n",
    "\n",
    "where $\\lfloor x \\rfloor$ means $x$ rounded down to the next lowest integer. Check out the numpy function `floor`!"
   ]
  },
  {
   "cell_type": "code",
   "execution_count": null,
   "metadata": {},
   "outputs": [],
   "source": []
  },
  {
   "cell_type": "markdown",
   "metadata": {},
   "source": [
    "&#128309; Plot $V_{in}$ to make sure it is behaving as expected."
   ]
  },
  {
   "cell_type": "code",
   "execution_count": null,
   "metadata": {},
   "outputs": [],
   "source": []
  },
  {
   "cell_type": "markdown",
   "metadata": {},
   "source": [
    "&#128309; Next, write a function that implements the righthand side of our ODE for $V_{out}$."
   ]
  },
  {
   "cell_type": "code",
   "execution_count": null,
   "metadata": {},
   "outputs": [],
   "source": []
  },
  {
   "cell_type": "markdown",
   "metadata": {},
   "source": [
    "&#128309; Use the fourth-order Runge-Kutta method to compute the output of your circuit from $t = 0$ s to $t = 10$ s for a circuit with $RC = 0.1$ seconds. Return numpy arrays that store $V_{out}(t)$ and your timesteps. "
   ]
  },
  {
   "cell_type": "code",
   "execution_count": null,
   "metadata": {},
   "outputs": [],
   "source": []
  },
  {
   "cell_type": "markdown",
   "metadata": {},
   "source": [
    "&#128309; Plot your input and output waveforms on the same plot, labeling both. "
   ]
  },
  {
   "cell_type": "code",
   "execution_count": null,
   "metadata": {},
   "outputs": [],
   "source": []
  },
  {
   "cell_type": "markdown",
   "metadata": {},
   "source": [
    "&#128309; Try varying your time constant $RC$ up to 1 s or down to 0.01 s, and plot the results."
   ]
  },
  {
   "cell_type": "code",
   "execution_count": null,
   "metadata": {},
   "outputs": [],
   "source": []
  },
  {
   "cell_type": "markdown",
   "metadata": {},
   "source": [
    "&#128310; Describe and comment on your results. "
   ]
  },
  {
   "cell_type": "markdown",
   "metadata": {},
   "source": []
  },
  {
   "cell_type": "markdown",
   "metadata": {},
   "source": [
    "## Acknowledgments\n",
    "\n",
    "S.E. Clark 2024, with several parts adapted from Newman 2013"
   ]
  }
 ],
 "metadata": {
  "kernelspec": {
   "display_name": "py38",
   "language": "python",
   "name": "python3"
  },
  "language_info": {
   "codemirror_mode": {
    "name": "ipython",
    "version": 3
   },
   "file_extension": ".py",
   "mimetype": "text/x-python",
   "name": "python",
   "nbconvert_exporter": "python",
   "pygments_lexer": "ipython3",
   "version": "3.8.16"
  }
 },
 "nbformat": 4,
 "nbformat_minor": 2
}
