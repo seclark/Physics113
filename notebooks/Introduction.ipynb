{
 "cells": [
  {
   "cell_type": "markdown",
   "metadata": {},
   "source": [
    "# Introduction to Python and Basic Plotting\n",
    "\n",
    "[Acknowledgments](#Acknowledgments)"
   ]
  },
  {
   "cell_type": "markdown",
   "metadata": {},
   "source": [
    "### Welcome to your first in-class notebook in Physics 113! \n",
    "\n",
    "These Jupyter notebooks will be a combination of **Markdown** and **Python** code. This cell is Markdown. &#128526;"
   ]
  },
  {
   "cell_type": "code",
   "execution_count": 1,
   "metadata": {},
   "outputs": [
    {
     "name": "stdout",
     "output_type": "stream",
     "text": [
      "This cell is Python code. It will be executed when you run the cell.\n"
     ]
    }
   ],
   "source": [
    "print(\"This cell is Python code. It will be executed when you run the cell.\")"
   ]
  },
  {
   "cell_type": "markdown",
   "metadata": {},
   "source": [
    "In general you will be asked to work your way through each cell in each notebook. Some cells you will read, and some cells you will write -- either prose in a Markdown cell or your own code in Python cells. It is your responsibility to read carefully to see what the notebook is asking you to do, but we will try to help flag cells that request your input in the following way:\n",
    "\n",
    "&#128310; Your response here\n",
    "\n",
    "&#128309; Your code here\n",
    "\n",
    "Let's try it:"
   ]
  },
  {
   "cell_type": "markdown",
   "metadata": {},
   "source": [
    "&#128309; Add a Python cell below and print the statement `hello world!`"
   ]
  },
  {
   "cell_type": "markdown",
   "metadata": {},
   "source": [
    "For those that are newer to Python or need a refresher, refer to the Course Resources page on Canvas for some handy Python tutorials. Let's do a quick warmup. Note that we have not imported any packages: you will do this warmup in pure Python.\n",
    "\n",
    "&#128309; Write a short function called `fibonacci` that takes an argument `n_values` and returns the first n_values of the [Fibonacci sequence](https://en.wikipedia.org/wiki/Fibonacci_sequence). The first two numbers in the Fibonacci sequence are 0 and 1, and each subsequent Fibonnaci number is the sum of the two numbers before it in the sequence. "
   ]
  },
  {
   "cell_type": "code",
   "execution_count": null,
   "metadata": {},
   "outputs": [],
   "source": []
  },
  {
   "cell_type": "markdown",
   "metadata": {},
   "source": [
    "&#128309; In a separate cell, run your `fibonacci` sequence and test whether you are getting the output you expect. "
   ]
  },
  {
   "cell_type": "code",
   "execution_count": null,
   "metadata": {},
   "outputs": [],
   "source": []
  },
  {
   "cell_type": "markdown",
   "metadata": {},
   "source": [
    "&#128310; Briefly (in a few sentences) describe how your `fibonacci` function works. "
   ]
  },
  {
   "cell_type": "markdown",
   "metadata": {},
   "source": [
    "Often the first thing you will do in a notebook is import modules. In Python, a **namespace** is a collection of names for objects, including variables and methods. Importing a module allows you to access its objects from your namespace. \n",
    "\n",
    "In this class we will make use of several packages, most prominently `numpy`, `matplotlib`, and `scipy`. Only import the modules you need -- for full points on notebooks and problem sets, it is important that you use only the permitted packages!\n",
    "\n",
    "There are several different ways to import python modules, but the convention we will use in this class is illustrated below. "
   ]
  },
  {
   "cell_type": "code",
   "execution_count": 2,
   "metadata": {},
   "outputs": [],
   "source": [
    "# Import numpy and matplotlib\n",
    "import numpy as np\n",
    "import matplotlib.pyplot as plt"
   ]
  },
  {
   "cell_type": "markdown",
   "metadata": {},
   "source": [
    "We have imported numpy and aliased it to `np`, and similarly we have imported matplotlib.pyplot and aliased pyplot as `plt`. The above allows us to access numpy objects via \"dot notation\", e.g., `np.<function_name>`.\n",
    "\n",
    "Let's try it. \n",
    "\n",
    "&#128309; Create a list containing the numbers 1-5, and find the mean of the array using `np.mean`. Save the output to a variable called `list_mean`, and print `list_mean`."
   ]
  },
  {
   "cell_type": "code",
   "execution_count": null,
   "metadata": {},
   "outputs": [],
   "source": []
  },
  {
   "cell_type": "markdown",
   "metadata": {},
   "source": [
    "<a id='plotting_intro'></a>"
   ]
  },
  {
   "cell_type": "markdown",
   "metadata": {},
   "source": [
    "### Basic Numpy"
   ]
  },
  {
   "cell_type": "code",
   "execution_count": 3,
   "metadata": {},
   "outputs": [
    {
     "name": "stdout",
     "output_type": "stream",
     "text": [
      "[0, 1, 2, 3, 4]\n",
      "[0 1 2 3 4]\n"
     ]
    }
   ],
   "source": [
    "# Normal Python list\n",
    "my_list = [0, 1, 2, 3, 4]  \n",
    "\n",
    "# Convert the list to a numpy array\n",
    "my_array = np.array(my_list)  \n",
    "\n",
    "# Brint both:\n",
    "print(my_list)\n",
    "print(my_array)"
   ]
  },
  {
   "cell_type": "markdown",
   "metadata": {},
   "source": [
    "&#128310; Explain in a sentence what the visual difference is between the list and the array. "
   ]
  },
  {
   "cell_type": "markdown",
   "metadata": {},
   "source": [
    "&#128309; Try multiplying both `my_list` and `my_array` by 2 and printing the results. "
   ]
  },
  {
   "cell_type": "markdown",
   "metadata": {},
   "source": [
    "&#128310; Explain in a sentence what the difference in behavior is between the list and the array."
   ]
  },
  {
   "cell_type": "markdown",
   "metadata": {},
   "source": [
    "If we wanted to multiply each element in `my_list` by 2, we would need to loop over each element in the list. That would be inefficient and annoying to write. NumPy makes our lives significantly easier, with element-wise array operations. \n",
    "\n",
    "NumPy includes many mathematical functions, like $\\sin, \\cos, \\cosh,\\exp, \\log$.\n",
    "They usually have intuitive names, such as `np.sin`, `np.exp`, and so forth."
   ]
  },
  {
   "cell_type": "code",
   "execution_count": 4,
   "metadata": {},
   "outputs": [
    {
     "name": "stdout",
     "output_type": "stream",
     "text": [
      "sin(x) = [-0.84147098 -0.47942554  0.          0.47942554  0.84147098]\n",
      "arccos(x) = [3.14159265 2.0943951  1.57079633 1.04719755 0.        ]\n",
      "log(x+10) = [2.19722458 2.2512918  2.30258509 2.35137526 2.39789527]\n",
      "log10(x+10) = [0.95424251 0.97772361 1.         1.0211893  1.04139269]\n"
     ]
    }
   ],
   "source": [
    "# Some mathematical functions\n",
    "x = np.array([-1, -0.5, 0, 0.5, 1])\n",
    "print(\"sin(x) = {}\".format(np.sin(x)))\n",
    "print(\"arccos(x) = {}\".format(np.arccos(x)))\n",
    "print(\"log(x+10) = {}\".format(np.log(x+10)))\n",
    "print(\"log10(x+10) = {}\".format(np.log10(x+10)))"
   ]
  },
  {
   "cell_type": "markdown",
   "metadata": {},
   "source": [
    "`np.linspace` is useful if we for example wish to plot a function $f(x)$.\n",
    "Then we need a list of $x$-values for which we can calculate the $y=f(x)$ values.\n",
    "Notice how the spacing between the points are the same, the points are *lin*early distributed in *space*.\n",
    "Sometimes we wish to have more control over the distance between points, rather than the number of points. For this we use `np.arange`."
   ]
  },
  {
   "cell_type": "code",
   "execution_count": 5,
   "metadata": {},
   "outputs": [
    {
     "name": "stdout",
     "output_type": "stream",
     "text": [
      "[0.  0.1 0.2 0.3 0.4 0.5 0.6 0.7 0.8 0.9 1.  1.1 1.2 1.3 1.4 1.5 1.6 1.7\n",
      " 1.8 1.9]\n"
     ]
    }
   ],
   "source": [
    "# Get an array of values between 0 and 2 with spacing 0.1\n",
    "x_range = np.arange(0, 2, 0.1)\n",
    "print(x_range)"
   ]
  },
  {
   "cell_type": "code",
   "execution_count": 6,
   "metadata": {},
   "outputs": [
    {
     "data": {
      "text/plain": [
       "array([0, 1, 2, 3, 4, 5, 6, 7, 8, 9])"
      ]
     },
     "execution_count": 6,
     "metadata": {},
     "output_type": "execute_result"
    }
   ],
   "source": [
    "np.arange(0, 10)"
   ]
  },
  {
   "cell_type": "markdown",
   "metadata": {},
   "source": [
    "There are many more functions that give us arrays of various shapes and sizes, we will not go through them all here. But two more functions should be mentioned, `np.zeros` and `np.ones`, which gives us a list of zeros and ones respectively."
   ]
  },
  {
   "cell_type": "code",
   "execution_count": 7,
   "metadata": {},
   "outputs": [
    {
     "name": "stdout",
     "output_type": "stream",
     "text": [
      "[0. 0. 0. 0. 0.]\n",
      "[[1. 1. 1.]\n",
      " [1. 1. 1.]]\n"
     ]
    }
   ],
   "source": [
    "# Generate an array of 5 zeros and a 2x3 array of ones\n",
    "zeros = np.zeros(5)\n",
    "ones = np.ones((2, 3))\n",
    "\n",
    "# Let us see how they look\n",
    "print(zeros)\n",
    "print(ones)"
   ]
  },
  {
   "cell_type": "markdown",
   "metadata": {},
   "source": [
    "Let's make a 3x4 array of 12 consecutive numbers and use it to explore array indexing."
   ]
  },
  {
   "cell_type": "code",
   "execution_count": 8,
   "metadata": {},
   "outputs": [
    {
     "name": "stdout",
     "output_type": "stream",
     "text": [
      "[[ 0  1  2  3]\n",
      " [ 4  5  6  7]\n",
      " [ 8  9 10 11]]\n"
     ]
    }
   ],
   "source": [
    "# Create a 3x4 array \n",
    "my_arr = np.arange(12).reshape(3, 4)\n",
    "\n",
    "print(my_arr)"
   ]
  },
  {
   "cell_type": "markdown",
   "metadata": {},
   "source": [
    "Remember that Python is 0-indexed (unlike Matlab, which may take some getting used to if you are used to Matlab).\n",
    "\n",
    "&#128309; Print the third column of `my_arr`. Practice slicing the array in different ways. "
   ]
  },
  {
   "cell_type": "markdown",
   "metadata": {},
   "source": [
    "### Plotting with Matplotlib"
   ]
  },
  {
   "cell_type": "markdown",
   "metadata": {},
   "source": [
    "The following is a brief introduction to plotting in Python, using the library `matplotlib`.\n",
    "From the matplotlib [home page](http://matplotlib.org): _\"matplotlib tries to make easy things easy and hard things possible.\"_\n",
    "Let's get started!"
   ]
  },
  {
   "cell_type": "markdown",
   "metadata": {},
   "source": [
    "We use the function `plt.plot` to plot.\n",
    "This command takes two arguments: a list of $x$-values and a list of $y$-values.\n",
    "Each pair of $x$- and $y$-values will be a point, and a line will be drawn between these points."
   ]
  },
  {
   "cell_type": "code",
   "execution_count": 9,
   "metadata": {},
   "outputs": [
    {
     "data": {
      "text/plain": [
       "[<matplotlib.lines.Line2D at 0x7f8db854a670>]"
      ]
     },
     "execution_count": 9,
     "metadata": {},
     "output_type": "execute_result"
    },
    {
     "data": {
      "image/png": "[encoded data removed]",
      "text/plain": [
       "<Figure size 640x480 with 1 Axes>"
      ]
     },
     "metadata": {},
     "output_type": "display_data"
    }
   ],
   "source": [
    "# Plot some arbitrary x- and y-values\n",
    "x = [1, 2, 4, 6, 8, 9]  # List of x-values\n",
    "y = [0.5, 2, 5, 5, 8, 4]  # List of x-values\n",
    "\n",
    "plt.plot(x, y)"
   ]
  },
  {
   "cell_type": "markdown",
   "metadata": {},
   "source": [
    "If we don't want the line to connect the dots, we can also pass `plt.plot` a format string. Let's try setting it to `'.'`."
   ]
  },
  {
   "cell_type": "code",
   "execution_count": 10,
   "metadata": {},
   "outputs": [
    {
     "data": {
      "text/plain": [
       "[<matplotlib.lines.Line2D at 0x7f8db85a31c0>]"
      ]
     },
     "execution_count": 10,
     "metadata": {},
     "output_type": "execute_result"
    },
    {
     "data": {
      "image/png": "[encoded data removed]",
      "text/plain": [
       "<Figure size 640x480 with 1 Axes>"
      ]
     },
     "metadata": {},
     "output_type": "display_data"
    }
   ],
   "source": [
    "plt.plot(x, y, '.')"
   ]
  },
  {
   "cell_type": "markdown",
   "metadata": {},
   "source": [
    "#### Plotting a function\n",
    "\n",
    "__The task:__ \n",
    "\n",
    "Plot a function $f$, given\n",
    "\n",
    "$$y=f(x)$$\n",
    "\n",
    "along an interval\n",
    "\n",
    "$$x=[a,b].$$\n",
    "\n",
    "__Example:__\n",
    "\n",
    "We would like to plot the function\n",
    "\n",
    "$$f(x)=x^3-2x+1$$\n",
    "\n",
    "for the interval\n",
    "\n",
    "$$x=[-1,2].$$\n",
    "\n",
    "__Step 1: Define values of $x$ in an array__\n",
    "\n",
    "We use the command"
   ]
  },
  {
   "cell_type": "code",
   "execution_count": 11,
   "metadata": {},
   "outputs": [],
   "source": [
    "x = np.linspace(-1, 2, 301)  # Array of 301 linearly spaced values between -1 and 2"
   ]
  },
  {
   "cell_type": "markdown",
   "metadata": {},
   "source": [
    "This creates an array of $301$ linearly spaced, discrete values of x between $-1$ and $2$, using a function from the `numpy` library.\n",
    "\n",
    "&#128309;  __Step 2: Write a function that returns f(x)__\n",
    "\n",
    "Your function should take in $x$ and return $f(x)$ as defined above."
   ]
  },
  {
   "cell_type": "code",
   "execution_count": 12,
   "metadata": {},
   "outputs": [],
   "source": []
  },
  {
   "cell_type": "markdown",
   "metadata": {},
   "source": [
    "&#128309; __Step 3: Use the `plot` command__\n",
    "\n",
    "As above, we use the `plt.plot` to plot the function. Let's see it!"
   ]
  },
  {
   "cell_type": "code",
   "execution_count": null,
   "metadata": {},
   "outputs": [],
   "source": []
  },
  {
   "cell_type": "markdown",
   "metadata": {},
   "source": [
    "&#128309; Matplotlib makes it easy to style your plot in many different ways. Replace `yourfunc` in the code below with your function name, and experiment with turning on and off each of the lines of code by commenting them out. Play with the various inputs and keyword arguments.  "
   ]
  },
  {
   "cell_type": "code",
   "execution_count": 13,
   "metadata": {},
   "outputs": [
    {
     "data": {
      "image/png": "[encoded data removed]",
      "text/plain": [
       "<Figure size 640x480 with 1 Axes>"
      ]
     },
     "metadata": {},
     "output_type": "display_data"
    }
   ],
   "source": [
    "# Label is the text that will appear in the legend\n",
    "plt.plot(x, yourfunc(x), label=\"$f(x)$\", linestyle=\"--\", color=\"magenta\", linewidth=3) \n",
    "\n",
    "# Label the x and y axes, and give the plot a title. The dollar signs mean to render LaTeX. \n",
    "plt.ylabel('$f(x)$', size=15)            \n",
    "plt.xlabel('$x$', size=15)               \n",
    "plt.title('Plot of $f(x)$', size=20)    \n",
    "\n",
    "# Add a legend. Try adding another line to your plot with another label and running this cell again.\n",
    "plt.legend()\n",
    "plt.grid() "
   ]
  },
  {
   "cell_type": "markdown",
   "metadata": {},
   "source": [
    "We can also diplay 2D arrays via `plt.pcolormesh`. "
   ]
  },
  {
   "cell_type": "code",
   "execution_count": 14,
   "metadata": {},
   "outputs": [
    {
     "data": {
      "text/plain": [
       "<matplotlib.collections.QuadMesh at 0x7f8dd8d70850>"
      ]
     },
     "execution_count": 14,
     "metadata": {},
     "output_type": "execute_result"
    },
    {
     "data": {
      "image/png": "[encoded data removed]",
      "text/plain": [
       "<Figure size 640x480 with 1 Axes>"
      ]
     },
     "metadata": {},
     "output_type": "display_data"
    }
   ],
   "source": [
    "# Create a 3x4 array \n",
    "my_arr = np.arange(12).reshape(3, 4)\n",
    "\n",
    "plt.pcolormesh(my_arr)"
   ]
  },
  {
   "cell_type": "markdown",
   "metadata": {},
   "source": [
    "&#128309; Try plotting the above again but changing the colormap by setting the `cmap` keyword argument. Try a few ofthese: 'viridis', 'plasma', 'inferno', 'magma', 'cividis'. Add a colorbar with `plt.colorbar()`."
   ]
  },
  {
   "cell_type": "code",
   "execution_count": null,
   "metadata": {},
   "outputs": [],
   "source": []
  },
  {
   "cell_type": "markdown",
   "metadata": {},
   "source": [
    "&#128309; Make a 2D plot with `pcolormesh` where the x and y axes are linear arrays with 100 elements in the range from $[0, \\pi]$, and the function plotted is $\\sin(xy)$. You will find the function `np.meshgrid` useful for this. "
   ]
  },
  {
   "cell_type": "code",
   "execution_count": null,
   "metadata": {},
   "outputs": [],
   "source": []
  },
  {
   "cell_type": "markdown",
   "metadata": {},
   "source": [
    "We can also make interactive plots with a little help from the package `ipywidgets`. These can be helpful for playing around with various problems and building physical intuition. Play around with the below cell. "
   ]
  },
  {
   "cell_type": "code",
   "execution_count": 15,
   "metadata": {},
   "outputs": [
    {
     "data": {
      "application/vnd.jupyter.widget-view+json": {
       "model_id": "fa41c01644eb43468dbe724f7400b728",
       "version_major": 2,
       "version_minor": 0
      },
      "text/plain": [
       "interactive(children=(FloatSlider(value=3.141592653589793, description='phase', max=6.283185307179586), FloatS…"
      ]
     },
     "metadata": {},
     "output_type": "display_data"
    }
   ],
   "source": [
    "from ipywidgets import interact\n",
    "\n",
    "def plot_sine_curve(phase, amplitude):\n",
    "    x = np.linspace(0, 2*np.pi, 1000)\n",
    "    y = amplitude * np.sin(x + phase)\n",
    "    plt.plot(x, y)\n",
    "    plt.ylim(-1.5, 1.5)\n",
    "    plt.show()\n",
    "\n",
    "interact(plot_sine_curve, phase=(0, 2*np.pi), amplitude=(0.1, 1.0));"
   ]
  },
  {
   "cell_type": "markdown",
   "metadata": {},
   "source": [
    "&#128309; Inspired by the above, create an interactive plot that plots $x^n$ for various values of $n$. Include a keyword argument `log_scale` that toggles between plotting the axes in logscale using `plt.loglog()`. The rest of the plot is up to you. "
   ]
  },
  {
   "cell_type": "code",
   "execution_count": 16,
   "metadata": {},
   "outputs": [
    {
     "data": {
      "application/vnd.jupyter.widget-view+json": {
       "model_id": "0dea9f974cdf4de19d6a187efa532fbe",
       "version_major": 2,
       "version_minor": 0
      },
      "text/plain": [
       "interactive(children=(FloatSlider(value=0.5, description='n', max=4.0, min=-3.0, step=0.5), Checkbox(value=Fal…"
      ]
     },
     "metadata": {},
     "output_type": "display_data"
    }
   ],
   "source": []
  },
  {
   "cell_type": "code",
   "execution_count": null,
   "metadata": {},
   "outputs": [],
   "source": []
  },
  {
   "cell_type": "markdown",
   "metadata": {},
   "source": [
    "<a id='Acknowledgments'></a>"
   ]
  },
  {
   "cell_type": "markdown",
   "metadata": {},
   "source": [
    "### Acknowledgments\n",
    "Intro - S.E. Clark, 2024\n",
    "\n",
    "Basic Numpy adapted from \"Introduction to Numpy\" by By Thorvald Ballestad, Niels Henrik Aase, Eilif Sommer Øyre and Jon Andreas Støvneng, and edited March 21 2023, Tom Abel\n",
    "\n",
    "Basic Plotting adapted from \"Basic Plotting in Python using Matplotlib\" by Magnus A. Gjennestad, Vegard Hagen, Aksel Kvaal, Morten Vassvik, Trygve B. Wiig, Peter Berg, Thorvald Ballestad, Niels Henrik Aase, Eilif Sommer Øyre and Jon Andreas Støvneng, and edited Jan 2022, Tom Abel\n",
    "\n",
    "Various other edits by S.E. Clark"
   ]
  },
  {
   "cell_type": "markdown",
   "metadata": {},
   "source": []
  }
 ],
 "metadata": {
  "kernelspec": {
   "display_name": "py38",
   "language": "python",
   "name": "py38"
  },
  "language_info": {
   "codemirror_mode": {
    "name": "ipython",
    "version": 3
   },
   "file_extension": ".py",
   "mimetype": "text/x-python",
   "name": "python",
   "nbconvert_exporter": "python",
   "pygments_lexer": "ipython3",
   "version": "3.8.16"
  }
 },
 "nbformat": 4,
 "nbformat_minor": 2
}
