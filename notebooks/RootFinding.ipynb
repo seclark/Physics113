{
 "cells": [
  {
   "cell_type": "markdown",
   "metadata": {},
   "source": [
    "# Root Finding\n",
    "\n",
    "[Acknowledgments](#Acknowledgments)"
   ]
  },
  {
   "cell_type": "markdown",
   "metadata": {},
   "source": [
    "Very often we want to find roots, or zeroes, of equations. Perhaps we want to know at what $x$ a function $f(x)$ is equal to 0. Perhaps we want to know where the function $f(x)$ intersects the function $g(x)$. Perhaps we want to find a maximum or minimum of an equation $f(x)$. All of these problems can be formulated as root-finding problems -- and root-finding problems can be considered part of a broader class of optimization problems, which we will explore further in this course soon. So today, let's explore how we find roots numerically!"
   ]
  },
  {
   "cell_type": "markdown",
   "metadata": {},
   "source": [
    "## A first problem\n",
    "\n",
    "Let's say we want to find the point where $f(x) = g(x)$, for\n",
    "\n",
    "$$f(x) = x$$\n",
    "\n",
    "$$g(x) = e^{-x}$$\n",
    "\n",
    "Put another way, we want to solve the equation \n",
    "\n",
    "$$x = e^{-x}$$\n",
    "\n",
    "Put yet another way, we want to find the root $x_0$ where \n",
    "\n",
    "$$h(x_0) = f(x_0) - g(x_0) =  x_0 - e^{-x_0} = 0$$"
   ]
  },
  {
   "cell_type": "markdown",
   "metadata": {},
   "source": [
    "### Visualizing the problem \n",
    "\n",
    "&#128309; Go ahead and import numpy and matplotlib.pyplot, and alias them in the usual way. "
   ]
  },
  {
   "cell_type": "markdown",
   "metadata": {},
   "source": [
    "&#128309; Write functions that compute f(x) and g(x)."
   ]
  },
  {
   "cell_type": "markdown",
   "metadata": {},
   "source": [
    "&#128309; Plot $f(x)$ and $g(x)$ in the range [-3, 5]. Remember our experimentation with numpy arrays in the Numerical Integration notebook! Don't forget to label your axes, and use `plt.legend` to label each function."
   ]
  },
  {
   "cell_type": "markdown",
   "metadata": {},
   "source": [
    "&#128310; Comment on your plot. Where, approximately, do you expect to find the root $x_0$ of the function $h(x) = f(x) - g(x)$? "
   ]
  },
  {
   "cell_type": "markdown",
   "metadata": {},
   "source": [
    "## The Bisection Method"
   ]
  },
  {
   "cell_type": "markdown",
   "metadata": {},
   "source": [
    "The bisection method is also called the \"binary search\" method. It uses a simple premise: if we have some continuous function, and we can guess two starting values that bracket a root of the function, we can iteratively halve the distance between our two values and discard the half that no longer contains the root, until we zoom in on the answer. A more detailed description of the algorithm is as follows:\n",
    "\n",
    "1. Set a target accuracy for the root you find.\n",
    "2. Given an initial pair of points $x_1$, $x_2$, check that $f(x_1)$ and $f(x_2)$ have opposite signs.\n",
    "3. If $f(x')$ has the same sign as $f(x_1)$ then set $x_1 = x'$. Otherwise set $x_2 = x'$.\n",
    "4. If $\\left|x_1 - x_2\\right|$ is greater than the target accuracy, repeat from step 2. Otherwise, calculate $\\frac{1}{2}\\left(x_1 + x_2\\right)$ one last time, and use this as the final estimate of the root.\n",
    "\n",
    "Let's try it out!"
   ]
  },
  {
   "cell_type": "markdown",
   "metadata": {},
   "source": [
    "### While loops\n",
    "Before we begin, let's have a quick refresher on `while` loops in Python. The `while` loop will execute a set of statements as long as a condition is true. Consider the following code."
   ]
  },
  {
   "cell_type": "code",
   "execution_count": null,
   "metadata": {},
   "outputs": [],
   "source": [
    "i = -3\n",
    "while i < 5:\n",
    "    print(f\"i = {i}\")\n",
    "    i += 1"
   ]
  },
  {
   "cell_type": "markdown",
   "metadata": {},
   "source": [
    "Explain in your own words what the code above does. "
   ]
  },
  {
   "cell_type": "markdown",
   "metadata": {},
   "source": [
    "### Your own implementation of the bisection method\n",
    "\n",
    "Now we'll implement the bisection method. You may find while loops will come in handy! Use the comments below to guide your code."
   ]
  },
  {
   "cell_type": "code",
   "execution_count": null,
   "metadata": {},
   "outputs": [],
   "source": [
    "# Implement h(x) = f(x) - g(x)\n",
    "\n",
    "# Initialize two starting guesses that you suspect bracket your solution\n",
    "\n",
    "# Implement the bisection method to find the root of h(x) = 0, following the procedure outlined above.\n",
    "\n",
    "# Run your code and nicely print the output."
   ]
  },
  {
   "cell_type": "markdown",
   "metadata": {},
   "source": [
    "&#128309; Plot $h(x)$, plot a horizontal line at $y=0$ using `plt.axhline`, and plot the root that you found as a vertical line using `plt.axvline`."
   ]
  },
  {
   "cell_type": "code",
   "execution_count": null,
   "metadata": {},
   "outputs": [],
   "source": []
  },
  {
   "cell_type": "markdown",
   "metadata": {},
   "source": [
    "&#128310; Comment on your plot. Did you find the root?"
   ]
  },
  {
   "cell_type": "markdown",
   "metadata": {},
   "source": [
    "&#128310; What do you think is the main drawback of the bisection method? How would it fare at finding the roots of $(6-2x)^4$?"
   ]
  },
  {
   "cell_type": "code",
   "execution_count": null,
   "metadata": {},
   "outputs": [],
   "source": []
  },
  {
   "cell_type": "markdown",
   "metadata": {},
   "source": [
    "### Applying the bisection method to Planck's radiation law\n",
    "\n",
    "Planck's radiation law states that the intensity of radiation per unit area and per unit wavelength $\\lambda$ from a blackbody at temperature $T$ is\n",
    "\n",
    "$$I(\\lambda) = \\frac{2\\pi h c^2 \\lambda^{-5}}{e^{hc/\\lambda k_B T} - 1}$$\n",
    "\n",
    "Where $h$ is Planck's constant, $c$ is the speed of light, and $k_B$ is Boltzmann's constant. \n",
    "\n",
    "You can show by differentiating that the wavelength at which the emitted ration is strongest is defined by\n",
    "\n",
    "$$5e^{-hc/\\lambda k_B T} + \\frac{hc}{\\lambda k_B T} - 5 = 0$$\n",
    "\n",
    "Substitute $x = hc/\\lambda k_B T$ and you will see that the wavelength of peak radiation obeys the *Wien displacement law*,\n",
    "\n",
    "$$\\lambda = \\frac{b}{T}$$\n",
    "\n",
    "where the *Wien displacement constant* is $b = hc/k_B x$, and  $x$ is the solution to the nonlinear equation \n",
    "\n",
    "$$5e^{-x} + x - 5 = 0$$"
   ]
  },
  {
   "cell_type": "markdown",
   "metadata": {},
   "source": [
    "&#128309; Write code that solves this to an accuracy of $10^{-6}$ using the bisection method, and report your value of the Wien displacement constant $b$. Use your value to answer the questions below."
   ]
  },
  {
   "cell_type": "markdown",
   "metadata": {},
   "source": [
    "&#128310; The Sun's emitted radiation peaks at $\\lambda = 502$ nm. Estimate the surface temperature of the Sun. \n",
    "\n",
    "&#128310; You have a body temperature of approximately 310 K. At what wavelength does your thermal radiation peak?"
   ]
  },
  {
   "cell_type": "markdown",
   "metadata": {},
   "source": [
    "## The Newton-Raphson Method"
   ]
  },
  {
   "cell_type": "markdown",
   "metadata": {},
   "source": [
    "Let's say that we don't know of two points that bracket our function, but we *do* know how the derivative of our function analytically. We can use the Newton-Raphson method, or just \"Newton's method\", to find a nearby root. The essence of this method is quite simple: at some starting guess $x_0$, evaluate $f'(x_0)$, the tangent line at that point, and use the x-intercept of the tangent line as your new guess. In other words,\n",
    "\n",
    "$$x_{i + 1} = x_i - \\frac{f(x_i)}{f'(x_i)}$$\n",
    "\n",
    "&#128309;  Implement the Newton-Raphson method below."
   ]
  },
  {
   "cell_type": "code",
   "execution_count": null,
   "metadata": {},
   "outputs": [],
   "source": []
  },
  {
   "cell_type": "markdown",
   "metadata": {},
   "source": [
    "### The roots of a sixth-order polynomial"
   ]
  },
  {
   "cell_type": "markdown",
   "metadata": {},
   "source": [
    "Consider the sixth-order polynomial\n",
    "\n",
    "$$P(x) = 924x^6 - 2772x^5 + 3150x^4 - 1680x^3 + 420x^2 - 42x + 1$$"
   ]
  },
  {
   "cell_type": "markdown",
   "metadata": {},
   "source": [
    "&#128309; Use the Newton-Raphson method to find all of the roots of this polynomial. "
   ]
  },
  {
   "cell_type": "code",
   "execution_count": null,
   "metadata": {},
   "outputs": [],
   "source": []
  },
  {
   "cell_type": "markdown",
   "metadata": {},
   "source": [
    "&#128309; Plot your function and your roots. Did it work? Explain your answer. "
   ]
  },
  {
   "cell_type": "markdown",
   "metadata": {},
   "source": [
    "What if we don't know the derivative $f'(x)$ analytically? We can instead approximate the derivative, for instance:\n",
    "\n",
    "$$f'(x_2) \\approx \\frac{f(x_2) - f(x_1)}{x_2 - x_1}$$"
   ]
  },
  {
   "cell_type": "markdown",
   "metadata": {},
   "source": [
    "This is, of course, just a finite-difference derivative version of the Newton-Raphson method, but the same algorithm with this numerical derivative is called the **secant method**. Note that you will need two starting guesses instead of one. \n",
    "\n",
    "&#128309; Implement the secant method, and test your code."
   ]
  },
  {
   "cell_type": "code",
   "execution_count": null,
   "metadata": {},
   "outputs": [],
   "source": []
  },
  {
   "cell_type": "markdown",
   "metadata": {},
   "source": [
    "### Lagrange Points"
   ]
  },
  {
   "cell_type": "markdown",
   "metadata": {},
   "source": [
    "Equilibrium points in the gravitational field of two massive bodies (e.g., the Sun and the Earth or the Earth and the Moon) are called Lagrange points. We will consider a simplified version of finding the Earth-Sun Lagrange points: we will reduce the problem to a 1D problem by searching for these equilibrium points along the line that instantaneously connects the Sun and the Earth. We will also assume that all orbits are circular. \n",
    "\n",
    "Define a coordinate system with the origin at the Sun. We will call this axis $r$. The Sun is at $r = 0$, and the Earth is at $+R_{Earth}$. We often define a handy unit, an \"astronomical unit\", or AU, that is equal to the distance between the Sun and the Earth. \n",
    "\n",
    "Now the equilibrium points will be at \n",
    "\n",
    "$$0  = -\\frac{GM_{Sun} r}{\\left|r\\right|^3} - \\frac{G M_{Earth} (R_{Earth} - r) }{\\left|R_{Earth} - r\\right|^3} - \\omega^2r $$\n",
    "\n",
    "Where $\\omega$ is the angular velocity of both the Earth and the Lagrange point, in radians/second. (Hint: you know what to use for this. How long does it take for the Earth to orbit the Sun?)\n",
    "\n",
    "Here are some handy constants (feel free to work in different units if you prefer):\n",
    "$$G = 6.674 \\times 10^{-11} \\mathrm{m}^3 \\mathrm{kg}^{-1} \\mathrm{s}^{-2}$$\n",
    "$$M_{Sun} = 1.989 \\times 10^{30} \\mathrm{kg} $$ \n",
    "$$M_{Earth} = 5.972 \\times 10^{24} \\mathrm{kg} $$ \n",
    "$$R_{Earth} = 1.496 \\times 10^{11} \\mathrm{m} = 1 \\mathrm{AU}$$\n"
   ]
  },
  {
   "cell_type": "markdown",
   "metadata": {},
   "source": [
    "&#128309; There are three Lagrange points along the Earth-Sun axis. Use either Newton's method or the secant method, and see if you can find them all. Hint: you may need to play around with your starting guesses!"
   ]
  },
  {
   "cell_type": "code",
   "execution_count": null,
   "metadata": {},
   "outputs": [],
   "source": []
  },
  {
   "cell_type": "markdown",
   "metadata": {},
   "source": [
    "Many a satellite orbits at L2 (Lagrange point 2), including <a href=\"https://webbtelescope.org/contents/media/images/01F4STZH25YJH07WTN7XJYQP8P#:~:text=L2%20is%20one%20of%20five,length%20of%20year)%20as%20Earth.\" target=\"_blank\">JWST</a>. "
   ]
  },
  {
   "cell_type": "markdown",
   "metadata": {},
   "source": []
  },
  {
   "cell_type": "markdown",
   "metadata": {},
   "source": [
    "## Acknowledgments\n",
    "\n",
    "S.E. Clark 2024, with several parts adapted from Newman 2013 and from PICUP.\n"
   ]
  },
  {
   "cell_type": "markdown",
   "metadata": {},
   "source": []
  }
 ],
 "metadata": {
  "kernelspec": {
   "display_name": "py38",
   "language": "python",
   "name": "python3"
  },
  "language_info": {
   "codemirror_mode": {
    "name": "ipython",
    "version": 3
   },
   "file_extension": ".py",
   "mimetype": "text/x-python",
   "name": "python",
   "nbconvert_exporter": "python",
   "pygments_lexer": "ipython3",
   "version": "3.8.16"
  }
 },
 "nbformat": 4,
 "nbformat_minor": 2
}
