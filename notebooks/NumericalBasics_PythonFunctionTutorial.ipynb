{
 "cells": [
  {
   "cell_type": "markdown",
   "metadata": {},
   "source": [
    "# Writing functions with flexible arguments in Python\n",
    "\n",
    "This is a bonus addendum to your NumericalBasics notebook. You will not turn this notebook in, but you may find it handy, both as a general skillbuilder and potentially to help you with NumericalBasics."
   ]
  },
  {
   "cell_type": "code",
   "execution_count": 1,
   "metadata": {},
   "outputs": [],
   "source": [
    "import numpy as np"
   ]
  },
  {
   "cell_type": "markdown",
   "metadata": {},
   "source": [
    "## Tuples"
   ]
  },
  {
   "cell_type": "markdown",
   "metadata": {},
   "source": [
    "Python has a data type called a *tuple*, which is an immutable version of a list. That means that tuples are ordered, indexable, and can contain arbitrary objects -- like lists -- but they cannot be modified. The only other difference between a tuple and a list is that a tuple is defined with parentheses, and a list is defined with square brackets. Here's a tuple:"
   ]
  },
  {
   "cell_type": "code",
   "execution_count": 2,
   "metadata": {},
   "outputs": [],
   "source": [
    "my_tuple = (7, 234.0, 0.5, \"I love Physics 113\")"
   ]
  },
  {
   "cell_type": "markdown",
   "metadata": {},
   "source": [
    "Briefly play around with your tuple. Try to:\n",
    "* Print the second item in your tuple\n",
    "* Multiply your tuple by 3\n",
    "* Replace the third item in your tuple with a string\n",
    "\n",
    "Which of these works, and which fails?"
   ]
  },
  {
   "cell_type": "markdown",
   "metadata": {},
   "source": []
  },
  {
   "cell_type": "markdown",
   "metadata": {},
   "source": [
    "We can think of a tuple as a collection of items \"packed\" into one object. The tuple can also be \"unpacked\", meaning that each item in the tuple can be assigned one by one to a variable, as shown below:"
   ]
  },
  {
   "cell_type": "code",
   "execution_count": 3,
   "metadata": {},
   "outputs": [
    {
     "name": "stdout",
     "output_type": "stream",
     "text": [
      "I love Physics 113\n"
     ]
    }
   ],
   "source": [
    "(a, b, c, d) = my_tuple\n",
    "print(d)"
   ]
  },
  {
   "cell_type": "markdown",
   "metadata": {},
   "source": [
    "## Argument tuple packing and unpacking "
   ]
  },
  {
   "cell_type": "markdown",
   "metadata": {},
   "source": [
    "Tuple packing and unpacking gives us a flexible way to pass an unspecified number of arguments to functions. When a python function takes an argument `*args`, whatever arguments are passed will be packed into a tuple `args` that the function can refer to. Here is a simple example:"
   ]
  },
  {
   "cell_type": "code",
   "execution_count": 4,
   "metadata": {},
   "outputs": [
    {
     "name": "stdout",
     "output_type": "stream",
     "text": [
      "8\n",
      "4\n",
      "broccoli\n"
     ]
    }
   ],
   "source": [
    "def example1(*args):\n",
    "    for i in args:\n",
    "        print(i)\n",
    "\n",
    "example1(8, 4, \"broccoli\")"
   ]
  },
  {
   "cell_type": "markdown",
   "metadata": {},
   "source": [
    "Note that in the example above, we passed three arguments to `example1`, and they were all packed in to the tuple `args` inside the function. Try it yourself! "
   ]
  },
  {
   "cell_type": "code",
   "execution_count": null,
   "metadata": {},
   "outputs": [],
   "source": []
  },
  {
   "cell_type": "markdown",
   "metadata": {},
   "source": []
  },
  {
   "cell_type": "code",
   "execution_count": null,
   "metadata": {},
   "outputs": [],
   "source": []
  },
  {
   "cell_type": "markdown",
   "metadata": {},
   "source": [
    "## Application to the Generalized Euler's Method problem"
   ]
  },
  {
   "cell_type": "markdown",
   "metadata": {},
   "source": [
    "In the notebook on Numerical Basics, you were asked to implement a \"generalized\" version of Euler's method, i.e. a function that could solve $\\frac{dx}{dt} = f(x, t)$ using Euler's method. There are a number of ways to do this, but you may find yourself wanting to pass a function to another function. \n",
    "\n",
    "Let's say you wanted to define a function `g` that takes a value `x` and a function `some_func`. If $x > 3$, you want `g` to return `some_func(x) + 3`. Otherwise you want to return `some_func(x) - 3`. We could achieve this as follows:"
   ]
  },
  {
   "cell_type": "code",
   "execution_count": 5,
   "metadata": {},
   "outputs": [
    {
     "name": "stdout",
     "output_type": "stream",
     "text": [
      "The solution for x = 0 is -3\n",
      "The solution for x = 1 is -2\n",
      "The solution for x = 2 is 1\n",
      "The solution for x = 3 is 6\n",
      "The solution for x = 4 is 19\n"
     ]
    }
   ],
   "source": [
    "def f(x):\n",
    "    return x**2\n",
    "\n",
    "def g(x, some_func):\n",
    "    if x > 3:\n",
    "        return some_func(x) + 3\n",
    "    else:\n",
    "        return some_func(x) - 3\n",
    "\n",
    "test_vals = np.arange(5)\n",
    "for t in test_vals:\n",
    "    # Note: this type of print statement is called an f-string, and was introduced in Python 3.6.\n",
    "    print(f\"The solution for x = {t} is {g(t, f)}\")"
   ]
  },
  {
   "cell_type": "markdown",
   "metadata": {},
   "source": [
    "&#128309; Take a moment to convince yourself that the above works as expected, and to test it yourself. "
   ]
  },
  {
   "cell_type": "markdown",
   "metadata": {},
   "source": [
    "This approach works, but what if we want to pass arbitrary arguments to `some_func`, such that we could pass any function to `g` with its associated arguments? This is where argument tuple packing provides an elegant solution. Let's try a more complicated version of the above."
   ]
  },
  {
   "cell_type": "code",
   "execution_count": 6,
   "metadata": {},
   "outputs": [],
   "source": [
    "def f2(x, a, b):\n",
    "    return a*x**b\n",
    "\n",
    "def f3(x, a, b, c):\n",
    "    return a*x**b + c\n",
    "\n",
    "def g2(x, some_func, *args):\n",
    "    if x > 3:\n",
    "        return some_func(x, *args) + 3\n",
    "    else:\n",
    "        return some_func(x, *args) - 3"
   ]
  },
  {
   "cell_type": "markdown",
   "metadata": {},
   "source": [
    "&#128309; Test `g2` by passing it either `f2` or `f3` and associated arguments."
   ]
  },
  {
   "cell_type": "code",
   "execution_count": null,
   "metadata": {},
   "outputs": [],
   "source": []
  },
  {
   "cell_type": "markdown",
   "metadata": {},
   "source": [
    "## Keyword arguments and argument dictionary unpacking"
   ]
  },
  {
   "cell_type": "markdown",
   "metadata": {},
   "source": [
    "We could implement something similar with *keyword arguments*, or *kwargs*. Keyword arguments are handy because they let you set a default value of any argument. Let's define a new function `f4` that takes arguments `a` and `b` and computes $f_4(x) = ax - b$. If we implement `a` and `b` as keyword arguments, we can call `f4` with or without explicitly setting `a` and `b` in the function call.  "
   ]
  },
  {
   "cell_type": "code",
   "execution_count": 7,
   "metadata": {},
   "outputs": [
    {
     "name": "stdout",
     "output_type": "stream",
     "text": [
      "f4(5) = 7\n",
      "f4(5) with a=1, b=6 = -1\n"
     ]
    }
   ],
   "source": [
    "def f4(x, a=2, b=3):\n",
    "    return a*x - b\n",
    "\n",
    "print(f\"f4(5) = {f4(5)}\")\n",
    "\n",
    "# Note that when we do set a and b explicitly, we do not need to set them in order\n",
    "print(f\"f4(5) with a=1, b=6 = {f4(5, b=6, a=1)}\")\n"
   ]
  },
  {
   "cell_type": "code",
   "execution_count": 8,
   "metadata": {},
   "outputs": [],
   "source": [
    "def g3(x, some_func, **kwargs):\n",
    "    if x > 3:\n",
    "        return some_func(x, **kwargs) + 3\n",
    "    else:\n",
    "        return some_func(x, **kwargs) - 3"
   ]
  },
  {
   "cell_type": "code",
   "execution_count": 9,
   "metadata": {},
   "outputs": [
    {
     "data": {
      "text/plain": [
       "-8"
      ]
     },
     "execution_count": 9,
     "metadata": {},
     "output_type": "execute_result"
    }
   ],
   "source": [
    "vals_dict = {\"b\":5, \"a\":4}\n",
    "g3(0, f4, **vals_dict)\n"
   ]
  },
  {
   "cell_type": "markdown",
   "metadata": {},
   "source": [
    "This construction lets us pass keyword arguments as a dictionary of the form `{keyword:argument}`. Note that the dictionary entries can be in any order, but any given dictionary key needs to be the name of one of the arguments that your function is expecting. Play around with this, and see what happens if you change one of the dictionary keys to something that is not an argument of the function `f4`. "
   ]
  },
  {
   "cell_type": "code",
   "execution_count": null,
   "metadata": {},
   "outputs": [],
   "source": []
  },
  {
   "cell_type": "markdown",
   "metadata": {},
   "source": [
    "You can choose to apply your new skills to the generalized Euler's method implementation, or not -- the choice is yours. "
   ]
  },
  {
   "cell_type": "markdown",
   "metadata": {},
   "source": []
  },
  {
   "cell_type": "markdown",
   "metadata": {},
   "source": [
    "# Acknowledgments\n",
    "\n",
    "S.E. Clark, 2024"
   ]
  },
  {
   "cell_type": "markdown",
   "metadata": {},
   "source": []
  }
 ],
 "metadata": {
  "kernelspec": {
   "display_name": "py38",
   "language": "python",
   "name": "python3"
  },
  "language_info": {
   "codemirror_mode": {
    "name": "ipython",
    "version": 3
   },
   "file_extension": ".py",
   "mimetype": "text/x-python",
   "name": "python",
   "nbconvert_exporter": "python",
   "pygments_lexer": "ipython3",
   "version": "3.8.16"
  }
 },
 "nbformat": 4,
 "nbformat_minor": 2
}
