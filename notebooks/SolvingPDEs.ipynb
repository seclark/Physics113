{
 "cells": [
  {
   "cell_type": "markdown",
   "metadata": {},
   "source": [
    "# Solving PDEs: Boundary Value Problems"
   ]
  },
  {
   "cell_type": "markdown",
   "metadata": {},
   "source": [
    "We began our discussion of ODEs with initial value problems (IVPs), because they are usually the simpler and more common class of ODE problem. Now we will turn our attention to *partial differential equations* (PDEs), where this distinction instead belongs to boundary value problems (BVPs). "
   ]
  },
  {
   "cell_type": "code",
   "execution_count": null,
   "metadata": {},
   "outputs": [],
   "source": [
    "import numpy as np\n",
    "import matplotlib.pyplot as plt"
   ]
  },
  {
   "cell_type": "markdown",
   "metadata": {},
   "source": [
    "## The Laplace Equation and an empty conducting box\n",
    "\n",
    "In the absence of charge, Maxwell's equation for the divergence of the electric field becomes $\\nabla \\cdot \\vec{E} = 0$. The electrostatic potential $\\phi$ is related to the electric field $\\vec{E}$ by $\\vec{E} = -\\nabla \\phi$. We can thus describe the electric potential via the **Laplace equation**:\n",
    "\n",
    "$$\\nabla^2 \\phi = 0$$\n",
    "\n",
    "which in two dimensions can be written \n",
    "\n",
    "$$\\frac{\\partial^2 \\phi}{\\partial x^2} + \\frac{\\partial^2 \\phi}{\\partial y^2} = 0$$\n",
    "\n",
    "### A simple problem\n",
    "\n",
    "Consider an empty 2D box with conducting walls. Three of the walls are grounded at 0 volts, but the wall at the top is at some other voltage $V$. Assume that the gap between the top wall and the others is negligible. What is the electric potential everywhere inside this box? "
   ]
  },
  {
   "cell_type": "markdown",
   "metadata": {},
   "source": [
    "## Relaxation Methods"
   ]
  },
  {
   "cell_type": "markdown",
   "metadata": {},
   "source": [
    "We will now study a class of methods called **relaxation methods**. The basic idea is this: if we have an equation and a boundary condition, like the Laplace equation problem described above, we can discretize the domain over which we will solve our problem: we imagine, for example, that space is divided into evenly spaced grid points. We know the solution of the equation on the boundaries of the domain, but nowhere else. When we discretize our domain, we discretize our equation over it: essentially this means that we now have an equation for every grid point. Then we just take a wild guess at the solution over the whole domain. It can be a terrible guess, e.g., that the electrostatic potential is zero everywhere inside our box. The idea is that we start with our guess and iteratively compute our equations over each grid point until our whole domain \"relaxes\" to the correct solution, and our answer stops changing. \n",
    "\n",
    "&#128310; In your own words, explain how you will know when your solution has converged."
   ]
  },
  {
   "cell_type": "markdown",
   "metadata": {},
   "source": []
  },
  {
   "cell_type": "markdown",
   "metadata": {},
   "source": [
    "Before we go any further, let's explore object assignment and copying objects in Python. "
   ]
  },
  {
   "cell_type": "markdown",
   "metadata": {},
   "source": [
    "## Copying Python objects\n",
    "\n",
    "When we use iterative techniques, often we want to compare a Python object at a previous step to a Python object at the current step. Thus we may find ourselves wanting to make a copy of a Python object. You may be tempted to do this as follows\n",
    "\n",
    "`new_thing = old_thing`\n",
    "\n",
    "In other words, to assign object `new_thing` the value `old_thing`. You may then run into some unexpected and perhaps unwanted behavior: in some cases, if you modify `old_thing`, `new_thing` will change. Let's first explore this behavior, and then we will discuss why it happens.\n",
    "\n",
    "&#128309; Initialize an object `old_number` as the integer 3. Then set `new_number = old_number` and print `new_number`. Now add 1 to `old_number`. What happens when you print `new_number`?"
   ]
  },
  {
   "cell_type": "code",
   "execution_count": null,
   "metadata": {},
   "outputs": [],
   "source": []
  },
  {
   "cell_type": "markdown",
   "metadata": {},
   "source": [
    "&#128309; Now initialize an object `old_list` as *a list containing the* integer 3. Then set `new_list = old_list` and print `new_list`. Now add 1 to the list element in `old_list`. What happens when you print `new_list` now?"
   ]
  },
  {
   "cell_type": "code",
   "execution_count": null,
   "metadata": {},
   "outputs": [],
   "source": []
  },
  {
   "cell_type": "markdown",
   "metadata": {},
   "source": [
    "You should have observed that `new_list` changed when `old_list` changed, but the same behavior was not seen when your objects were integers. Why? When you use the equals sign to assign an object in Python, you are binding the name to the object. **This does not create a new object in memory.** Say you bind an object `new_thing` to the object `old_thing`. For immutable objects like numbers, booleans, and tuples, subsequent changes to one of these objects will not affect the other. But for **mutable** objects like lists, sets, dictionaries, and numpy arrays, the object referenced by both `new_thing` and `old_thing` can be changed -- hence the surprising behavior when we alter one of these expecting the other to be unchanged. \n",
    "\n",
    "&#128309; The built-in function `id` returns a unique integer for each object. Use it to demonstrate when an object assignment (e.g., `a = b`) or change to an object references the same item in memory. Play around with this and show evidence of at least two different examples. "
   ]
  },
  {
   "cell_type": "code",
   "execution_count": null,
   "metadata": {},
   "outputs": [],
   "source": []
  },
  {
   "cell_type": "markdown",
   "metadata": {},
   "source": [
    "Okay, but what to do when we really need a copy of a mutable object? For numpy arrays we can use `np.copy`. For other data types we can make use of <a target=\"_blank\" rel=\"noopener noreferrer\"  href=\"https://docs.python.org/3/library/copy.html\" >the `copy` package</a>.\n",
    "\n",
    "&#128309; Convince yourself of this behavior with testing similar to the above, but using a numpy array. Demonstrate the different behavior with and without using `np.copy`. "
   ]
  },
  {
   "cell_type": "code",
   "execution_count": null,
   "metadata": {},
   "outputs": [],
   "source": []
  },
  {
   "cell_type": "markdown",
   "metadata": {},
   "source": [
    "## The Jacobi Method and an empty conducting box\n",
    "\n",
    "Consider again the Laplace equation and our empty conducting box with the top wall held at voltage $V$. To solve this problem we need to first discretize the second derivative. Consider a simple finite difference derivative that computes the derivative of a function $f$ centered at $x$ (this is called a central difference derivative):\n",
    "\n",
    "$$\\frac{df}{dx} \\approx \\frac{f(x + h/2) - f(x - h/2)}{h}$$\n",
    "\n",
    "We can apply central differencing again to get an expression for the second derivative:\n",
    "\n",
    "$$f''(x) \\approx \\frac{f'(x + h/2) - f'(x - h/2)}{h} = \\frac{f(x+h) - 2f(x) + f(x-h)}{h^2}$$\n",
    "\n",
    "Use this to derive the central difference approximation to the Laplacian operator in two dimensions. You should find\n",
    "\n",
    "$$\\frac{\\partial^2 \\phi}{\\partial x^2} + \\frac{\\partial^2 \\phi}{\\partial y^2} \\approx \\frac{1}{h^2} \\left(\\phi(x+h, y) + \\phi(x-h, y) + \\phi(x, y+h) + \\phi(x, y-h) - 4\\phi(x, y)\\right)$$\n",
    "\n",
    "Note that if we set this equal to 0, as we do in the Laplace equation, the factor $\\frac{1}{h^2}$ drops out. \n",
    "\n",
    "The **Jacobi method** is the simplest version of a relaxation method: simply loop through your grid points, computing your equation local on each one, and enforcing the boundary conditions on the boundaries. Continue until your solution converges. \n",
    "\n",
    "&#128309; Implement the Jacobi method to solve the 2D Laplace equation for the empty conducting box problem, using for loops to loop over your 2D coordinates. Compute until your solution is converged everywhere on the grid to within $10^{-6}$. Be sure to enforce your boundary conditions! *Caution: this double loop will be fairly slow. I suggest starting with a 20 x 20 grid.*"
   ]
  },
  {
   "cell_type": "code",
   "execution_count": null,
   "metadata": {},
   "outputs": [],
   "source": []
  },
  {
   "cell_type": "markdown",
   "metadata": {},
   "source": []
  },
  {
   "cell_type": "markdown",
   "metadata": {},
   "source": [
    "## Array Indexing: More Practice"
   ]
  },
  {
   "cell_type": "markdown",
   "metadata": {},
   "source": [
    "we have done a good amount of array indexing in this class so far, but as our array indexing tasks get more and more complicated, it's good to practice. We'll do some quick array indexing practice using an array I have prepared for you. Download the saved numpy array `maki.npy` from Canvas, save it to a subfolder `data` of the directory where this notebook is stored, and load it using `np.load`. Use matplotlib's `imshow` to display the array below."
   ]
  },
  {
   "cell_type": "code",
   "execution_count": null,
   "metadata": {},
   "outputs": [],
   "source": []
  },
  {
   "cell_type": "markdown",
   "metadata": {},
   "source": [
    "Meet my cat, Maki. \n",
    "\n",
    "&#128310; What shape is this array? What does each dimension represent? "
   ]
  },
  {
   "cell_type": "markdown",
   "metadata": {},
   "source": []
  },
  {
   "cell_type": "markdown",
   "metadata": {},
   "source": [
    "&#128309; Zoom in on Maki's face in one line of code. Trim pixels off of the boundary of the image using the array index notation `array[start:stop:step]`, recalling that negative integers count backward from the end of the array axis. Use this as an opportunity to be sure you understand which axis is which. Plot your trimmed image. "
   ]
  },
  {
   "cell_type": "code",
   "execution_count": null,
   "metadata": {},
   "outputs": [],
   "source": []
  },
  {
   "cell_type": "markdown",
   "metadata": {},
   "source": [
    "&#128309; Use the `[start:stop:step]` notation to plot a version of the image that's reversed along the x-axis in one line of code. "
   ]
  },
  {
   "cell_type": "code",
   "execution_count": null,
   "metadata": {},
   "outputs": [],
   "source": []
  },
  {
   "cell_type": "markdown",
   "metadata": {},
   "source": [
    "&#128310; What happens if you plot just one index of the third axis? Why? "
   ]
  },
  {
   "cell_type": "markdown",
   "metadata": {},
   "source": []
  },
  {
   "cell_type": "markdown",
   "metadata": {},
   "source": [
    "## The Jacobi Method Revisited: A faster implementation with array indexing\n",
    "\n",
    "\n",
    "&#128309; Re-implement the Jacobi method, but use array indexing to update the whole array at once for each iteration. Keep track of how many iterations your code uses, and print a sentence that states how many iterations were used. Think about how you will implement this before starting. You may want to write out pseudocode or draw something on scratch paper. This should be much faster, so go ahead and compute on a 100 x 100 grid, and then plot! "
   ]
  },
  {
   "cell_type": "code",
   "execution_count": null,
   "metadata": {},
   "outputs": [],
   "source": []
  },
  {
   "cell_type": "markdown",
   "metadata": {},
   "source": [
    "## A simple capacitor"
   ]
  },
  {
   "cell_type": "markdown",
   "metadata": {},
   "source": [
    "Consider a 2D model of a capacitor that consists of two flat metal plates inside a square metal box. The box is 100 cm long, and the plates are each 60 cm long. One of them is 20 cm from an edge, and the other is 20 cm from the opposite edge. The edges of the (2D) box are held at ground (0 V) and the two plates are at voltages +1 V and -1 V. \n",
    "\n",
    "&#128309; Use array indexing to make a 2D array that represents this capacitor, and plot it. As always, visualize what you expect to see before plotting it."
   ]
  },
  {
   "cell_type": "code",
   "execution_count": null,
   "metadata": {},
   "outputs": [],
   "source": []
  },
  {
   "cell_type": "markdown",
   "metadata": {},
   "source": [
    "&#128309; Before doing anything else, visualize what you think the electric potential in the box should look like. Then use array-indexing and the relaxation method to compute the solution to an accuracy of $10^{-6}$ V everywhere in the box. Plot your result. *Hint: what are ALL the boundary conditions in this problem?*"
   ]
  },
  {
   "cell_type": "code",
   "execution_count": null,
   "metadata": {},
   "outputs": [],
   "source": []
  },
  {
   "cell_type": "markdown",
   "metadata": {},
   "source": [
    "&#128310; Comment on your solution. Does it look as you expect? "
   ]
  },
  {
   "cell_type": "markdown",
   "metadata": {},
   "source": []
  },
  {
   "cell_type": "markdown",
   "metadata": {},
   "source": [
    "# Acknowledgments\n",
    "\n",
    "S.E. Clark 2024, with Laplace equation problems adapted from Newman 2013."
   ]
  }
 ],
 "metadata": {
  "kernelspec": {
   "display_name": "py38",
   "language": "python",
   "name": "py38"
  },
  "language_info": {
   "codemirror_mode": {
    "name": "ipython",
    "version": 3
   },
   "file_extension": ".py",
   "mimetype": "text/x-python",
   "name": "python",
   "nbconvert_exporter": "python",
   "pygments_lexer": "ipython3",
   "version": "3.8.16"
  }
 },
 "nbformat": 4,
 "nbformat_minor": 2
}
